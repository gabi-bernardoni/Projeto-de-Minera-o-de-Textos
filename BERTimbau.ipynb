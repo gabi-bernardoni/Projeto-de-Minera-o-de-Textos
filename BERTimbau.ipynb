{
  "nbformat": 4,
  "nbformat_minor": 0,
  "metadata": {
    "colab": {
      "provenance": [],
      "authorship_tag": "ABX9TyMI9gHmZkBKXXMNZygME/hE",
      "include_colab_link": true
    },
    "kernelspec": {
      "name": "python3",
      "display_name": "Python 3"
    },
    "language_info": {
      "name": "python"
    },
    "widgets": {
      "application/vnd.jupyter.widget-state+json": {
        "49f80f910f7a4d62a61d1876977e8944": {
          "model_module": "@jupyter-widgets/controls",
          "model_name": "HBoxModel",
          "model_module_version": "1.5.0",
          "state": {
            "_dom_classes": [],
            "_model_module": "@jupyter-widgets/controls",
            "_model_module_version": "1.5.0",
            "_model_name": "HBoxModel",
            "_view_count": null,
            "_view_module": "@jupyter-widgets/controls",
            "_view_module_version": "1.5.0",
            "_view_name": "HBoxView",
            "box_style": "",
            "children": [
              "IPY_MODEL_dba9e72e9256467ea9e910bb6cfaadf0",
              "IPY_MODEL_7a62456185204647bad78c98d93195e8",
              "IPY_MODEL_edbe557171ab499a833e29bb75781bd1"
            ],
            "layout": "IPY_MODEL_0eb9b62b6d59434b9cb4ccc427d30464"
          }
        },
        "dba9e72e9256467ea9e910bb6cfaadf0": {
          "model_module": "@jupyter-widgets/controls",
          "model_name": "HTMLModel",
          "model_module_version": "1.5.0",
          "state": {
            "_dom_classes": [],
            "_model_module": "@jupyter-widgets/controls",
            "_model_module_version": "1.5.0",
            "_model_name": "HTMLModel",
            "_view_count": null,
            "_view_module": "@jupyter-widgets/controls",
            "_view_module_version": "1.5.0",
            "_view_name": "HTMLView",
            "description": "",
            "description_tooltip": null,
            "layout": "IPY_MODEL_76671be65a9b4117a9719a1bcaebc712",
            "placeholder": "​",
            "style": "IPY_MODEL_469b0b77cf0d400eb47e2936a41d7118",
            "value": "Map: 100%"
          }
        },
        "7a62456185204647bad78c98d93195e8": {
          "model_module": "@jupyter-widgets/controls",
          "model_name": "FloatProgressModel",
          "model_module_version": "1.5.0",
          "state": {
            "_dom_classes": [],
            "_model_module": "@jupyter-widgets/controls",
            "_model_module_version": "1.5.0",
            "_model_name": "FloatProgressModel",
            "_view_count": null,
            "_view_module": "@jupyter-widgets/controls",
            "_view_module_version": "1.5.0",
            "_view_name": "ProgressView",
            "bar_style": "success",
            "description": "",
            "description_tooltip": null,
            "layout": "IPY_MODEL_7cf552381fe94cd1bffd705570116a30",
            "max": 2408,
            "min": 0,
            "orientation": "horizontal",
            "style": "IPY_MODEL_f9000073ff09495d803472748d3650dd",
            "value": 2408
          }
        },
        "edbe557171ab499a833e29bb75781bd1": {
          "model_module": "@jupyter-widgets/controls",
          "model_name": "HTMLModel",
          "model_module_version": "1.5.0",
          "state": {
            "_dom_classes": [],
            "_model_module": "@jupyter-widgets/controls",
            "_model_module_version": "1.5.0",
            "_model_name": "HTMLModel",
            "_view_count": null,
            "_view_module": "@jupyter-widgets/controls",
            "_view_module_version": "1.5.0",
            "_view_name": "HTMLView",
            "description": "",
            "description_tooltip": null,
            "layout": "IPY_MODEL_e24dcb2ab6134ac495409ae27bb56382",
            "placeholder": "​",
            "style": "IPY_MODEL_da79f67b380e4da69dfeee3e4c520b59",
            "value": " 2408/2408 [00:05&lt;00:00, 486.11 examples/s]"
          }
        },
        "0eb9b62b6d59434b9cb4ccc427d30464": {
          "model_module": "@jupyter-widgets/base",
          "model_name": "LayoutModel",
          "model_module_version": "1.2.0",
          "state": {
            "_model_module": "@jupyter-widgets/base",
            "_model_module_version": "1.2.0",
            "_model_name": "LayoutModel",
            "_view_count": null,
            "_view_module": "@jupyter-widgets/base",
            "_view_module_version": "1.2.0",
            "_view_name": "LayoutView",
            "align_content": null,
            "align_items": null,
            "align_self": null,
            "border": null,
            "bottom": null,
            "display": null,
            "flex": null,
            "flex_flow": null,
            "grid_area": null,
            "grid_auto_columns": null,
            "grid_auto_flow": null,
            "grid_auto_rows": null,
            "grid_column": null,
            "grid_gap": null,
            "grid_row": null,
            "grid_template_areas": null,
            "grid_template_columns": null,
            "grid_template_rows": null,
            "height": null,
            "justify_content": null,
            "justify_items": null,
            "left": null,
            "margin": null,
            "max_height": null,
            "max_width": null,
            "min_height": null,
            "min_width": null,
            "object_fit": null,
            "object_position": null,
            "order": null,
            "overflow": null,
            "overflow_x": null,
            "overflow_y": null,
            "padding": null,
            "right": null,
            "top": null,
            "visibility": null,
            "width": null
          }
        },
        "76671be65a9b4117a9719a1bcaebc712": {
          "model_module": "@jupyter-widgets/base",
          "model_name": "LayoutModel",
          "model_module_version": "1.2.0",
          "state": {
            "_model_module": "@jupyter-widgets/base",
            "_model_module_version": "1.2.0",
            "_model_name": "LayoutModel",
            "_view_count": null,
            "_view_module": "@jupyter-widgets/base",
            "_view_module_version": "1.2.0",
            "_view_name": "LayoutView",
            "align_content": null,
            "align_items": null,
            "align_self": null,
            "border": null,
            "bottom": null,
            "display": null,
            "flex": null,
            "flex_flow": null,
            "grid_area": null,
            "grid_auto_columns": null,
            "grid_auto_flow": null,
            "grid_auto_rows": null,
            "grid_column": null,
            "grid_gap": null,
            "grid_row": null,
            "grid_template_areas": null,
            "grid_template_columns": null,
            "grid_template_rows": null,
            "height": null,
            "justify_content": null,
            "justify_items": null,
            "left": null,
            "margin": null,
            "max_height": null,
            "max_width": null,
            "min_height": null,
            "min_width": null,
            "object_fit": null,
            "object_position": null,
            "order": null,
            "overflow": null,
            "overflow_x": null,
            "overflow_y": null,
            "padding": null,
            "right": null,
            "top": null,
            "visibility": null,
            "width": null
          }
        },
        "469b0b77cf0d400eb47e2936a41d7118": {
          "model_module": "@jupyter-widgets/controls",
          "model_name": "DescriptionStyleModel",
          "model_module_version": "1.5.0",
          "state": {
            "_model_module": "@jupyter-widgets/controls",
            "_model_module_version": "1.5.0",
            "_model_name": "DescriptionStyleModel",
            "_view_count": null,
            "_view_module": "@jupyter-widgets/base",
            "_view_module_version": "1.2.0",
            "_view_name": "StyleView",
            "description_width": ""
          }
        },
        "7cf552381fe94cd1bffd705570116a30": {
          "model_module": "@jupyter-widgets/base",
          "model_name": "LayoutModel",
          "model_module_version": "1.2.0",
          "state": {
            "_model_module": "@jupyter-widgets/base",
            "_model_module_version": "1.2.0",
            "_model_name": "LayoutModel",
            "_view_count": null,
            "_view_module": "@jupyter-widgets/base",
            "_view_module_version": "1.2.0",
            "_view_name": "LayoutView",
            "align_content": null,
            "align_items": null,
            "align_self": null,
            "border": null,
            "bottom": null,
            "display": null,
            "flex": null,
            "flex_flow": null,
            "grid_area": null,
            "grid_auto_columns": null,
            "grid_auto_flow": null,
            "grid_auto_rows": null,
            "grid_column": null,
            "grid_gap": null,
            "grid_row": null,
            "grid_template_areas": null,
            "grid_template_columns": null,
            "grid_template_rows": null,
            "height": null,
            "justify_content": null,
            "justify_items": null,
            "left": null,
            "margin": null,
            "max_height": null,
            "max_width": null,
            "min_height": null,
            "min_width": null,
            "object_fit": null,
            "object_position": null,
            "order": null,
            "overflow": null,
            "overflow_x": null,
            "overflow_y": null,
            "padding": null,
            "right": null,
            "top": null,
            "visibility": null,
            "width": null
          }
        },
        "f9000073ff09495d803472748d3650dd": {
          "model_module": "@jupyter-widgets/controls",
          "model_name": "ProgressStyleModel",
          "model_module_version": "1.5.0",
          "state": {
            "_model_module": "@jupyter-widgets/controls",
            "_model_module_version": "1.5.0",
            "_model_name": "ProgressStyleModel",
            "_view_count": null,
            "_view_module": "@jupyter-widgets/base",
            "_view_module_version": "1.2.0",
            "_view_name": "StyleView",
            "bar_color": null,
            "description_width": ""
          }
        },
        "e24dcb2ab6134ac495409ae27bb56382": {
          "model_module": "@jupyter-widgets/base",
          "model_name": "LayoutModel",
          "model_module_version": "1.2.0",
          "state": {
            "_model_module": "@jupyter-widgets/base",
            "_model_module_version": "1.2.0",
            "_model_name": "LayoutModel",
            "_view_count": null,
            "_view_module": "@jupyter-widgets/base",
            "_view_module_version": "1.2.0",
            "_view_name": "LayoutView",
            "align_content": null,
            "align_items": null,
            "align_self": null,
            "border": null,
            "bottom": null,
            "display": null,
            "flex": null,
            "flex_flow": null,
            "grid_area": null,
            "grid_auto_columns": null,
            "grid_auto_flow": null,
            "grid_auto_rows": null,
            "grid_column": null,
            "grid_gap": null,
            "grid_row": null,
            "grid_template_areas": null,
            "grid_template_columns": null,
            "grid_template_rows": null,
            "height": null,
            "justify_content": null,
            "justify_items": null,
            "left": null,
            "margin": null,
            "max_height": null,
            "max_width": null,
            "min_height": null,
            "min_width": null,
            "object_fit": null,
            "object_position": null,
            "order": null,
            "overflow": null,
            "overflow_x": null,
            "overflow_y": null,
            "padding": null,
            "right": null,
            "top": null,
            "visibility": null,
            "width": null
          }
        },
        "da79f67b380e4da69dfeee3e4c520b59": {
          "model_module": "@jupyter-widgets/controls",
          "model_name": "DescriptionStyleModel",
          "model_module_version": "1.5.0",
          "state": {
            "_model_module": "@jupyter-widgets/controls",
            "_model_module_version": "1.5.0",
            "_model_name": "DescriptionStyleModel",
            "_view_count": null,
            "_view_module": "@jupyter-widgets/base",
            "_view_module_version": "1.2.0",
            "_view_name": "StyleView",
            "description_width": ""
          }
        },
        "2ca9ce1e670c4024915d0054a8f55d8b": {
          "model_module": "@jupyter-widgets/controls",
          "model_name": "HBoxModel",
          "model_module_version": "1.5.0",
          "state": {
            "_dom_classes": [],
            "_model_module": "@jupyter-widgets/controls",
            "_model_module_version": "1.5.0",
            "_model_name": "HBoxModel",
            "_view_count": null,
            "_view_module": "@jupyter-widgets/controls",
            "_view_module_version": "1.5.0",
            "_view_name": "HBoxView",
            "box_style": "",
            "children": [
              "IPY_MODEL_6c485eca777d4b7ca7bc31fca4e8bb2d",
              "IPY_MODEL_d686f4b5395a4677a7004027f3a21418",
              "IPY_MODEL_5aac47b5636848699624cce08d8e3d43"
            ],
            "layout": "IPY_MODEL_6fe841e45be541048106a7098481d49c"
          }
        },
        "6c485eca777d4b7ca7bc31fca4e8bb2d": {
          "model_module": "@jupyter-widgets/controls",
          "model_name": "HTMLModel",
          "model_module_version": "1.5.0",
          "state": {
            "_dom_classes": [],
            "_model_module": "@jupyter-widgets/controls",
            "_model_module_version": "1.5.0",
            "_model_name": "HTMLModel",
            "_view_count": null,
            "_view_module": "@jupyter-widgets/controls",
            "_view_module_version": "1.5.0",
            "_view_name": "HTMLView",
            "description": "",
            "description_tooltip": null,
            "layout": "IPY_MODEL_dd31dbb737b94316bd7d55795a4d9e02",
            "placeholder": "​",
            "style": "IPY_MODEL_916958fa6fa54bd28d755bff7ac6469f",
            "value": "Map: 100%"
          }
        },
        "d686f4b5395a4677a7004027f3a21418": {
          "model_module": "@jupyter-widgets/controls",
          "model_name": "FloatProgressModel",
          "model_module_version": "1.5.0",
          "state": {
            "_dom_classes": [],
            "_model_module": "@jupyter-widgets/controls",
            "_model_module_version": "1.5.0",
            "_model_name": "FloatProgressModel",
            "_view_count": null,
            "_view_module": "@jupyter-widgets/controls",
            "_view_module_version": "1.5.0",
            "_view_name": "ProgressView",
            "bar_style": "success",
            "description": "",
            "description_tooltip": null,
            "layout": "IPY_MODEL_c20837f7038044698a813a6d67c4effa",
            "max": 603,
            "min": 0,
            "orientation": "horizontal",
            "style": "IPY_MODEL_960ef308cdf041fd8d8a8fd452968120",
            "value": 603
          }
        },
        "5aac47b5636848699624cce08d8e3d43": {
          "model_module": "@jupyter-widgets/controls",
          "model_name": "HTMLModel",
          "model_module_version": "1.5.0",
          "state": {
            "_dom_classes": [],
            "_model_module": "@jupyter-widgets/controls",
            "_model_module_version": "1.5.0",
            "_model_name": "HTMLModel",
            "_view_count": null,
            "_view_module": "@jupyter-widgets/controls",
            "_view_module_version": "1.5.0",
            "_view_name": "HTMLView",
            "description": "",
            "description_tooltip": null,
            "layout": "IPY_MODEL_99212523380544d18e3a77c82256e682",
            "placeholder": "​",
            "style": "IPY_MODEL_95564cb6f6a3433188a1c603c8b8b068",
            "value": " 603/603 [00:01&lt;00:00, 608.03 examples/s]"
          }
        },
        "6fe841e45be541048106a7098481d49c": {
          "model_module": "@jupyter-widgets/base",
          "model_name": "LayoutModel",
          "model_module_version": "1.2.0",
          "state": {
            "_model_module": "@jupyter-widgets/base",
            "_model_module_version": "1.2.0",
            "_model_name": "LayoutModel",
            "_view_count": null,
            "_view_module": "@jupyter-widgets/base",
            "_view_module_version": "1.2.0",
            "_view_name": "LayoutView",
            "align_content": null,
            "align_items": null,
            "align_self": null,
            "border": null,
            "bottom": null,
            "display": null,
            "flex": null,
            "flex_flow": null,
            "grid_area": null,
            "grid_auto_columns": null,
            "grid_auto_flow": null,
            "grid_auto_rows": null,
            "grid_column": null,
            "grid_gap": null,
            "grid_row": null,
            "grid_template_areas": null,
            "grid_template_columns": null,
            "grid_template_rows": null,
            "height": null,
            "justify_content": null,
            "justify_items": null,
            "left": null,
            "margin": null,
            "max_height": null,
            "max_width": null,
            "min_height": null,
            "min_width": null,
            "object_fit": null,
            "object_position": null,
            "order": null,
            "overflow": null,
            "overflow_x": null,
            "overflow_y": null,
            "padding": null,
            "right": null,
            "top": null,
            "visibility": null,
            "width": null
          }
        },
        "dd31dbb737b94316bd7d55795a4d9e02": {
          "model_module": "@jupyter-widgets/base",
          "model_name": "LayoutModel",
          "model_module_version": "1.2.0",
          "state": {
            "_model_module": "@jupyter-widgets/base",
            "_model_module_version": "1.2.0",
            "_model_name": "LayoutModel",
            "_view_count": null,
            "_view_module": "@jupyter-widgets/base",
            "_view_module_version": "1.2.0",
            "_view_name": "LayoutView",
            "align_content": null,
            "align_items": null,
            "align_self": null,
            "border": null,
            "bottom": null,
            "display": null,
            "flex": null,
            "flex_flow": null,
            "grid_area": null,
            "grid_auto_columns": null,
            "grid_auto_flow": null,
            "grid_auto_rows": null,
            "grid_column": null,
            "grid_gap": null,
            "grid_row": null,
            "grid_template_areas": null,
            "grid_template_columns": null,
            "grid_template_rows": null,
            "height": null,
            "justify_content": null,
            "justify_items": null,
            "left": null,
            "margin": null,
            "max_height": null,
            "max_width": null,
            "min_height": null,
            "min_width": null,
            "object_fit": null,
            "object_position": null,
            "order": null,
            "overflow": null,
            "overflow_x": null,
            "overflow_y": null,
            "padding": null,
            "right": null,
            "top": null,
            "visibility": null,
            "width": null
          }
        },
        "916958fa6fa54bd28d755bff7ac6469f": {
          "model_module": "@jupyter-widgets/controls",
          "model_name": "DescriptionStyleModel",
          "model_module_version": "1.5.0",
          "state": {
            "_model_module": "@jupyter-widgets/controls",
            "_model_module_version": "1.5.0",
            "_model_name": "DescriptionStyleModel",
            "_view_count": null,
            "_view_module": "@jupyter-widgets/base",
            "_view_module_version": "1.2.0",
            "_view_name": "StyleView",
            "description_width": ""
          }
        },
        "c20837f7038044698a813a6d67c4effa": {
          "model_module": "@jupyter-widgets/base",
          "model_name": "LayoutModel",
          "model_module_version": "1.2.0",
          "state": {
            "_model_module": "@jupyter-widgets/base",
            "_model_module_version": "1.2.0",
            "_model_name": "LayoutModel",
            "_view_count": null,
            "_view_module": "@jupyter-widgets/base",
            "_view_module_version": "1.2.0",
            "_view_name": "LayoutView",
            "align_content": null,
            "align_items": null,
            "align_self": null,
            "border": null,
            "bottom": null,
            "display": null,
            "flex": null,
            "flex_flow": null,
            "grid_area": null,
            "grid_auto_columns": null,
            "grid_auto_flow": null,
            "grid_auto_rows": null,
            "grid_column": null,
            "grid_gap": null,
            "grid_row": null,
            "grid_template_areas": null,
            "grid_template_columns": null,
            "grid_template_rows": null,
            "height": null,
            "justify_content": null,
            "justify_items": null,
            "left": null,
            "margin": null,
            "max_height": null,
            "max_width": null,
            "min_height": null,
            "min_width": null,
            "object_fit": null,
            "object_position": null,
            "order": null,
            "overflow": null,
            "overflow_x": null,
            "overflow_y": null,
            "padding": null,
            "right": null,
            "top": null,
            "visibility": null,
            "width": null
          }
        },
        "960ef308cdf041fd8d8a8fd452968120": {
          "model_module": "@jupyter-widgets/controls",
          "model_name": "ProgressStyleModel",
          "model_module_version": "1.5.0",
          "state": {
            "_model_module": "@jupyter-widgets/controls",
            "_model_module_version": "1.5.0",
            "_model_name": "ProgressStyleModel",
            "_view_count": null,
            "_view_module": "@jupyter-widgets/base",
            "_view_module_version": "1.2.0",
            "_view_name": "StyleView",
            "bar_color": null,
            "description_width": ""
          }
        },
        "99212523380544d18e3a77c82256e682": {
          "model_module": "@jupyter-widgets/base",
          "model_name": "LayoutModel",
          "model_module_version": "1.2.0",
          "state": {
            "_model_module": "@jupyter-widgets/base",
            "_model_module_version": "1.2.0",
            "_model_name": "LayoutModel",
            "_view_count": null,
            "_view_module": "@jupyter-widgets/base",
            "_view_module_version": "1.2.0",
            "_view_name": "LayoutView",
            "align_content": null,
            "align_items": null,
            "align_self": null,
            "border": null,
            "bottom": null,
            "display": null,
            "flex": null,
            "flex_flow": null,
            "grid_area": null,
            "grid_auto_columns": null,
            "grid_auto_flow": null,
            "grid_auto_rows": null,
            "grid_column": null,
            "grid_gap": null,
            "grid_row": null,
            "grid_template_areas": null,
            "grid_template_columns": null,
            "grid_template_rows": null,
            "height": null,
            "justify_content": null,
            "justify_items": null,
            "left": null,
            "margin": null,
            "max_height": null,
            "max_width": null,
            "min_height": null,
            "min_width": null,
            "object_fit": null,
            "object_position": null,
            "order": null,
            "overflow": null,
            "overflow_x": null,
            "overflow_y": null,
            "padding": null,
            "right": null,
            "top": null,
            "visibility": null,
            "width": null
          }
        },
        "95564cb6f6a3433188a1c603c8b8b068": {
          "model_module": "@jupyter-widgets/controls",
          "model_name": "DescriptionStyleModel",
          "model_module_version": "1.5.0",
          "state": {
            "_model_module": "@jupyter-widgets/controls",
            "_model_module_version": "1.5.0",
            "_model_name": "DescriptionStyleModel",
            "_view_count": null,
            "_view_module": "@jupyter-widgets/base",
            "_view_module_version": "1.2.0",
            "_view_name": "StyleView",
            "description_width": ""
          }
        }
      }
    }
  },
  "cells": [
    {
      "cell_type": "markdown",
      "metadata": {
        "id": "view-in-github",
        "colab_type": "text"
      },
      "source": [
        "<a href=\"https://colab.research.google.com/github/gabi-bernardoni/Projeto-de-Mineracao-de-Textos/blob/main/BERTimbau.ipynb\" target=\"_parent\"><img src=\"https://colab.research.google.com/assets/colab-badge.svg\" alt=\"Open In Colab\"/></a>"
      ]
    },
    {
      "cell_type": "markdown",
      "source": [
        "##BERTimbau\n",
        "\n",
        "BERTimbau é uma versão em português do modelo BERT (Bidirectional Encoder Representations from Transformers), desenvolvido pela equipe do NeuralMind. Assim como o BERT, o BERTimbau é um modelo pré-treinado de linguagem baseado em Transformers que é eficaz para tarefas de processamento de linguagem natural (PLN). O modelo foi treinado com um grande corpus de textos em português.\n",
        "\n"
      ],
      "metadata": {
        "id": "1yVYqC2symER"
      }
    },
    {
      "cell_type": "markdown",
      "source": [
        "##Funcionamento do Modelo\n",
        "\n",
        "Primeiramente, o código carrega os dados a partir de um arquivo CSV. Em seguida, ele realiza o pré-processamento do texto para garantir que ele esteja limpo e formatado corretamente.\n",
        "Depois de preparar o texto, o código utiliza LabelEncoder para transformar os rótulos de sentimento em números. Esse processo é necessário porque o modelo BERTimbau trabalha com dados numéricos para classificação. Com os dados preparados, o próximo passo é dividir o dataset em conjuntos de treinamento e teste.\n",
        "\n",
        "O código então converte esses conjuntos de dados em um formato compatível com o modelo BERTimbau, utilizando a classe Dataset da biblioteca Hugging Face. O modelo BERTimbau é carregado juntamente com o tokenizer correspondente. O tokenizer é responsável por transformar o texto em tokens que o modelo pode entender, e o modelo é configurado para realizar a tarefa de classificação de texto, ajustado para o número de categorias de sentimento presentes.\n",
        "\n",
        "O texto é tokenizado e formatado para o treinamento e avaliação, seguindo as especificações do modelo, como o comprimento máximo dos tokens. O treinamento é configurado com parâmetros como o número de épocas e o tamanho do batch. Usando a classe Trainer da Hugging Face, o modelo BERTimbau é ajustado no conjunto de treinamento.\n",
        "\n",
        "O código também possui uma função para extrair embeddings das sentenças usando o modelo treinado. Esses embeddings são vetores que representam as características dos textos e podem ser utilizados para outras análises."
      ],
      "metadata": {
        "id": "cGHgGhqLynvF"
      }
    },
    {
      "cell_type": "code",
      "source": [
        "pip install datasets"
      ],
      "metadata": {
        "colab": {
          "base_uri": "https://localhost:8080/"
        },
        "id": "NdHvk4zFHWYV",
        "outputId": "e03028c0-dd15-4b1c-8a40-01cbeada3965"
      },
      "execution_count": 1,
      "outputs": [
        {
          "output_type": "stream",
          "name": "stdout",
          "text": [
            "Requirement already satisfied: datasets in /usr/local/lib/python3.10/dist-packages (2.20.0)\n",
            "Requirement already satisfied: filelock in /usr/local/lib/python3.10/dist-packages (from datasets) (3.15.4)\n",
            "Requirement already satisfied: numpy>=1.17 in /usr/local/lib/python3.10/dist-packages (from datasets) (1.26.4)\n",
            "Requirement already satisfied: pyarrow>=15.0.0 in /usr/local/lib/python3.10/dist-packages (from datasets) (17.0.0)\n",
            "Requirement already satisfied: pyarrow-hotfix in /usr/local/lib/python3.10/dist-packages (from datasets) (0.6)\n",
            "Requirement already satisfied: dill<0.3.9,>=0.3.0 in /usr/local/lib/python3.10/dist-packages (from datasets) (0.3.8)\n",
            "Requirement already satisfied: pandas in /usr/local/lib/python3.10/dist-packages (from datasets) (2.1.4)\n",
            "Requirement already satisfied: requests>=2.32.2 in /usr/local/lib/python3.10/dist-packages (from datasets) (2.32.3)\n",
            "Requirement already satisfied: tqdm>=4.66.3 in /usr/local/lib/python3.10/dist-packages (from datasets) (4.66.4)\n",
            "Requirement already satisfied: xxhash in /usr/local/lib/python3.10/dist-packages (from datasets) (3.4.1)\n",
            "Requirement already satisfied: multiprocess in /usr/local/lib/python3.10/dist-packages (from datasets) (0.70.16)\n",
            "Requirement already satisfied: fsspec<=2024.5.0,>=2023.1.0 in /usr/local/lib/python3.10/dist-packages (from fsspec[http]<=2024.5.0,>=2023.1.0->datasets) (2024.5.0)\n",
            "Requirement already satisfied: aiohttp in /usr/local/lib/python3.10/dist-packages (from datasets) (3.9.5)\n",
            "Requirement already satisfied: huggingface-hub>=0.21.2 in /usr/local/lib/python3.10/dist-packages (from datasets) (0.23.5)\n",
            "Requirement already satisfied: packaging in /usr/local/lib/python3.10/dist-packages (from datasets) (24.1)\n",
            "Requirement already satisfied: pyyaml>=5.1 in /usr/local/lib/python3.10/dist-packages (from datasets) (6.0.1)\n",
            "Requirement already satisfied: aiosignal>=1.1.2 in /usr/local/lib/python3.10/dist-packages (from aiohttp->datasets) (1.3.1)\n",
            "Requirement already satisfied: attrs>=17.3.0 in /usr/local/lib/python3.10/dist-packages (from aiohttp->datasets) (23.2.0)\n",
            "Requirement already satisfied: frozenlist>=1.1.1 in /usr/local/lib/python3.10/dist-packages (from aiohttp->datasets) (1.4.1)\n",
            "Requirement already satisfied: multidict<7.0,>=4.5 in /usr/local/lib/python3.10/dist-packages (from aiohttp->datasets) (6.0.5)\n",
            "Requirement already satisfied: yarl<2.0,>=1.0 in /usr/local/lib/python3.10/dist-packages (from aiohttp->datasets) (1.9.4)\n",
            "Requirement already satisfied: async-timeout<5.0,>=4.0 in /usr/local/lib/python3.10/dist-packages (from aiohttp->datasets) (4.0.3)\n",
            "Requirement already satisfied: typing-extensions>=3.7.4.3 in /usr/local/lib/python3.10/dist-packages (from huggingface-hub>=0.21.2->datasets) (4.12.2)\n",
            "Requirement already satisfied: charset-normalizer<4,>=2 in /usr/local/lib/python3.10/dist-packages (from requests>=2.32.2->datasets) (3.3.2)\n",
            "Requirement already satisfied: idna<4,>=2.5 in /usr/local/lib/python3.10/dist-packages (from requests>=2.32.2->datasets) (3.7)\n",
            "Requirement already satisfied: urllib3<3,>=1.21.1 in /usr/local/lib/python3.10/dist-packages (from requests>=2.32.2->datasets) (2.0.7)\n",
            "Requirement already satisfied: certifi>=2017.4.17 in /usr/local/lib/python3.10/dist-packages (from requests>=2.32.2->datasets) (2024.7.4)\n",
            "Requirement already satisfied: python-dateutil>=2.8.2 in /usr/local/lib/python3.10/dist-packages (from pandas->datasets) (2.8.2)\n",
            "Requirement already satisfied: pytz>=2020.1 in /usr/local/lib/python3.10/dist-packages (from pandas->datasets) (2024.1)\n",
            "Requirement already satisfied: tzdata>=2022.1 in /usr/local/lib/python3.10/dist-packages (from pandas->datasets) (2024.1)\n",
            "Requirement already satisfied: six>=1.5 in /usr/local/lib/python3.10/dist-packages (from python-dateutil>=2.8.2->pandas->datasets) (1.16.0)\n"
          ]
        }
      ]
    },
    {
      "cell_type": "code",
      "source": [
        "import pandas as pd\n",
        "import numpy as np\n",
        "from sklearn.model_selection import train_test_split\n",
        "from sklearn.preprocessing import LabelEncoder\n",
        "from transformers import BertTokenizer, BertForSequenceClassification, Trainer, TrainingArguments\n",
        "from datasets import Dataset\n",
        "import torch\n",
        "\n",
        "# Configurações\n",
        "path_bert = 'neuralmind/bert-base-portuguese-cased'  # Modelo BERTimbau no Hugging Face\n",
        "data_path = 'avaliacoes.csv'  # Caminho para o dataset\n",
        "\n",
        "# Carregar e preparar os dados\n",
        "df = pd.read_csv(data_path)\n",
        "\n",
        "# Limpar e pré-processar o texto\n",
        "import regex  # trabalhar com expressões regulares\n",
        "df['content'] = df['content'].apply(lambda x: regex.sub('[^\\p{Latin}]', u' ', str(x)))\n",
        "df['content'] = df['content'].apply(lambda x: str(x).lower())\n",
        "\n",
        "import nltk\n",
        "from nltk.corpus import stopwords\n",
        "from nltk.tokenize import word_tokenize\n",
        "nltk.download('stopwords')\n",
        "nltk.download('punkt')\n",
        "\n",
        "def remove_stopwords(texto):\n",
        "    stops_list = stopwords.words(\"portuguese\")\n",
        "    word_tokens = word_tokenize(texto)  #remove stopwords\n",
        "    texto_sem_stops = [w for w in word_tokens if w not in stops_list]\n",
        "    return \" \".join(texto_sem_stops)\n",
        "\n",
        "df['content'] = df['content'].apply(remove_stopwords)\n",
        "\n",
        "# Codificar os rótulos\n",
        "label_encoder = LabelEncoder()\n",
        "df['label'] = label_encoder.fit_transform(df['sentiment'])\n",
        "df['content'] = df['content'].astype(str)  #  texto como string\n",
        "\n",
        "# Dividir os dados\n",
        "train_df, test_df = train_test_split(df, test_size=0.2, random_state=42, stratify=df['label'])\n",
        "train_dataset = Dataset.from_pandas(train_df[['content', 'label']])\n",
        "test_dataset = Dataset.from_pandas(test_df[['content', 'label']])\n",
        "\n",
        "# Carregar o tokenizer e o modelo\n",
        "tokenizer = BertTokenizer.from_pretrained(path_bert)\n",
        "model = BertForSequenceClassification.from_pretrained(path_bert, num_labels=len(label_encoder.classes_))  # Número de classes\n",
        "\n",
        "# Função de pré-processamento\n",
        "def preprocess_function(examples):\n",
        "    return tokenizer(examples['content'], padding='max_length', truncation=True, max_length=128)\n",
        "\n",
        "train_dataset = train_dataset.map(preprocess_function, batched=True)\n",
        "test_dataset = test_dataset.map(preprocess_function, batched=True)\n",
        "\n",
        "# Configuração do Trainer\n",
        "training_args = TrainingArguments(\n",
        "    output_dir='./results',\n",
        "    evaluation_strategy='epoch',\n",
        "    per_device_train_batch_size=8,\n",
        "    per_device_eval_batch_size=8,\n",
        "    num_train_epochs=3,\n",
        "    weight_decay=0.01,\n",
        ")\n",
        "\n",
        "trainer = Trainer(\n",
        "    model=model,\n",
        "    args=training_args,\n",
        "    train_dataset=train_dataset,\n",
        "    eval_dataset=test_dataset,\n",
        "    tokenizer=tokenizer,\n",
        ")\n",
        "\n",
        "# Treinamento\n",
        "trainer.train()\n",
        "\n",
        "# Avaliação\n",
        "eval_results = trainer.evaluate()\n",
        "\n",
        "print(\"Avaliação do Modelo:\")\n",
        "print(eval_results)\n",
        "\n",
        "# Obtenção dos embeddings\n",
        "def get_embeddings(texts, tokenizer, model, batch_size=32, max_length=128):\n",
        "    model.eval()\n",
        "    all_embeddings = []\n",
        "    with torch.no_grad():\n",
        "        for i in range(0, len(texts), batch_size):\n",
        "            batch_texts = texts[i:i + batch_size]\n",
        "            inputs = tokenizer(batch_texts, return_tensors='pt', padding=True, truncation=True, max_length=max_length)\n",
        "            outputs = model.bert(**inputs)  # Usar o modelo BERT para obter embeddings\n",
        "            embeddings = outputs.last_hidden_state[:, 0, :].numpy()  # Pegar embeddings da [CLS] token\n",
        "            all_embeddings.extend(embeddings)\n",
        "    return np.array(all_embeddings)\n",
        "\n",
        "# Gerar embeddings\n",
        "embeddings = get_embeddings(df['content'].tolist(), tokenizer, model)\n",
        "\n",
        "print(\"Shape dos embeddings:\", embeddings.shape)\n"
      ],
      "metadata": {
        "colab": {
          "base_uri": "https://localhost:8080/",
          "height": 464,
          "referenced_widgets": [
            "49f80f910f7a4d62a61d1876977e8944",
            "dba9e72e9256467ea9e910bb6cfaadf0",
            "7a62456185204647bad78c98d93195e8",
            "edbe557171ab499a833e29bb75781bd1",
            "0eb9b62b6d59434b9cb4ccc427d30464",
            "76671be65a9b4117a9719a1bcaebc712",
            "469b0b77cf0d400eb47e2936a41d7118",
            "7cf552381fe94cd1bffd705570116a30",
            "f9000073ff09495d803472748d3650dd",
            "e24dcb2ab6134ac495409ae27bb56382",
            "da79f67b380e4da69dfeee3e4c520b59",
            "2ca9ce1e670c4024915d0054a8f55d8b",
            "6c485eca777d4b7ca7bc31fca4e8bb2d",
            "d686f4b5395a4677a7004027f3a21418",
            "5aac47b5636848699624cce08d8e3d43",
            "6fe841e45be541048106a7098481d49c",
            "dd31dbb737b94316bd7d55795a4d9e02",
            "916958fa6fa54bd28d755bff7ac6469f",
            "c20837f7038044698a813a6d67c4effa",
            "960ef308cdf041fd8d8a8fd452968120",
            "99212523380544d18e3a77c82256e682",
            "95564cb6f6a3433188a1c603c8b8b068"
          ]
        },
        "id": "_uhjR9Rf6vSw",
        "outputId": "84e2d52c-f847-48c8-b0f1-ad39716b3839"
      },
      "execution_count": 11,
      "outputs": [
        {
          "output_type": "stream",
          "name": "stderr",
          "text": [
            "[nltk_data] Downloading package stopwords to /root/nltk_data...\n",
            "[nltk_data]   Package stopwords is already up-to-date!\n",
            "[nltk_data] Downloading package punkt to /root/nltk_data...\n",
            "[nltk_data]   Package punkt is already up-to-date!\n",
            "Some weights of BertForSequenceClassification were not initialized from the model checkpoint at neuralmind/bert-base-portuguese-cased and are newly initialized: ['classifier.bias', 'classifier.weight']\n",
            "You should probably TRAIN this model on a down-stream task to be able to use it for predictions and inference.\n"
          ]
        },
        {
          "output_type": "display_data",
          "data": {
            "text/plain": [
              "Map:   0%|          | 0/2408 [00:00<?, ? examples/s]"
            ],
            "application/vnd.jupyter.widget-view+json": {
              "version_major": 2,
              "version_minor": 0,
              "model_id": "49f80f910f7a4d62a61d1876977e8944"
            }
          },
          "metadata": {}
        },
        {
          "output_type": "display_data",
          "data": {
            "text/plain": [
              "Map:   0%|          | 0/603 [00:00<?, ? examples/s]"
            ],
            "application/vnd.jupyter.widget-view+json": {
              "version_major": 2,
              "version_minor": 0,
              "model_id": "2ca9ce1e670c4024915d0054a8f55d8b"
            }
          },
          "metadata": {}
        },
        {
          "output_type": "stream",
          "name": "stderr",
          "text": [
            "/usr/local/lib/python3.10/dist-packages/transformers/training_args.py:1494: FutureWarning: `evaluation_strategy` is deprecated and will be removed in version 4.46 of 🤗 Transformers. Use `eval_strategy` instead\n",
            "  warnings.warn(\n"
          ]
        },
        {
          "output_type": "display_data",
          "data": {
            "text/plain": [
              "<IPython.core.display.HTML object>"
            ],
            "text/html": [
              "\n",
              "    <div>\n",
              "      \n",
              "      <progress value='903' max='903' style='width:300px; height:20px; vertical-align: middle;'></progress>\n",
              "      [903/903 3:07:49, Epoch 3/3]\n",
              "    </div>\n",
              "    <table border=\"1\" class=\"dataframe\">\n",
              "  <thead>\n",
              " <tr style=\"text-align: left;\">\n",
              "      <th>Epoch</th>\n",
              "      <th>Training Loss</th>\n",
              "      <th>Validation Loss</th>\n",
              "    </tr>\n",
              "  </thead>\n",
              "  <tbody>\n",
              "    <tr>\n",
              "      <td>1</td>\n",
              "      <td>No log</td>\n",
              "      <td>0.817792</td>\n",
              "    </tr>\n",
              "    <tr>\n",
              "      <td>2</td>\n",
              "      <td>0.909400</td>\n",
              "      <td>0.830763</td>\n",
              "    </tr>\n",
              "    <tr>\n",
              "      <td>3</td>\n",
              "      <td>0.909400</td>\n",
              "      <td>0.975487</td>\n",
              "    </tr>\n",
              "  </tbody>\n",
              "</table><p>"
            ]
          },
          "metadata": {}
        },
        {
          "output_type": "display_data",
          "data": {
            "text/plain": [
              "<IPython.core.display.HTML object>"
            ],
            "text/html": [
              "\n",
              "    <div>\n",
              "      \n",
              "      <progress value='76' max='76' style='width:300px; height:20px; vertical-align: middle;'></progress>\n",
              "      [76/76 04:15]\n",
              "    </div>\n",
              "    "
            ]
          },
          "metadata": {}
        },
        {
          "output_type": "stream",
          "name": "stdout",
          "text": [
            "Avaliação do Modelo:\n",
            "{'eval_loss': 0.9754871726036072, 'eval_runtime': 258.6509, 'eval_samples_per_second': 2.331, 'eval_steps_per_second': 0.294, 'epoch': 3.0}\n",
            "Shape dos embeddings: (3011, 768)\n"
          ]
        }
      ]
    },
    {
      "cell_type": "code",
      "source": [
        "# Previsões do modelo para o conjunto de teste\n",
        "predictions = trainer.predict(test_dataset)\n",
        "predicoes = np.argmax(predictions.predictions, axis=1)"
      ],
      "metadata": {
        "colab": {
          "base_uri": "https://localhost:8080/",
          "height": 17
        },
        "id": "Am6VRQP_rE3W",
        "outputId": "8df1222b-1178-4983-b07b-3a0f516e04be"
      },
      "execution_count": 13,
      "outputs": [
        {
          "output_type": "display_data",
          "data": {
            "text/plain": [
              "<IPython.core.display.HTML object>"
            ],
            "text/html": []
          },
          "metadata": {}
        }
      ]
    },
    {
      "cell_type": "code",
      "source": [
        "# Extrair os rótulos verdadeiros do conjunto de teste\n",
        "y_test = np.array(test_df['label'])"
      ],
      "metadata": {
        "id": "NX1N1eTTrU8h"
      },
      "execution_count": 14,
      "outputs": []
    },
    {
      "cell_type": "code",
      "source": [
        "from sklearn.metrics import classification_report\n",
        "\n",
        "print(\"Relatório de Classificação:\")\n",
        "print(classification_report(y_test, predicoes, target_names=label_encoder.classes_))"
      ],
      "metadata": {
        "colab": {
          "base_uri": "https://localhost:8080/"
        },
        "id": "sTcAMbC8rW5g",
        "outputId": "b2fde023-77ab-4b06-956e-82b616154ca2"
      },
      "execution_count": 15,
      "outputs": [
        {
          "output_type": "stream",
          "name": "stdout",
          "text": [
            "Relatório de Classificação:\n",
            "              precision    recall  f1-score   support\n",
            "\n",
            "       anger       0.76      0.72      0.74       149\n",
            "     disgust       0.67      0.68      0.67       191\n",
            "        fear       0.00      0.00      0.00         9\n",
            "   happiness       0.86      0.67      0.75        64\n",
            "     neutral       0.09      0.06      0.07        16\n",
            "     sadness       0.72      0.86      0.78       173\n",
            "    surprise       0.00      0.00      0.00         1\n",
            "\n",
            "    accuracy                           0.71       603\n",
            "   macro avg       0.44      0.43      0.43       603\n",
            "weighted avg       0.70      0.71      0.70       603\n",
            "\n"
          ]
        },
        {
          "output_type": "stream",
          "name": "stderr",
          "text": [
            "/usr/local/lib/python3.10/dist-packages/sklearn/metrics/_classification.py:1471: UndefinedMetricWarning: Precision and F-score are ill-defined and being set to 0.0 in labels with no predicted samples. Use `zero_division` parameter to control this behavior.\n",
            "  _warn_prf(average, modifier, msg_start, len(result))\n",
            "/usr/local/lib/python3.10/dist-packages/sklearn/metrics/_classification.py:1471: UndefinedMetricWarning: Precision and F-score are ill-defined and being set to 0.0 in labels with no predicted samples. Use `zero_division` parameter to control this behavior.\n",
            "  _warn_prf(average, modifier, msg_start, len(result))\n",
            "/usr/local/lib/python3.10/dist-packages/sklearn/metrics/_classification.py:1471: UndefinedMetricWarning: Precision and F-score are ill-defined and being set to 0.0 in labels with no predicted samples. Use `zero_division` parameter to control this behavior.\n",
            "  _warn_prf(average, modifier, msg_start, len(result))\n"
          ]
        }
      ]
    },
    {
      "cell_type": "code",
      "source": [
        "from sklearn.metrics import confusion_matrix\n",
        "import matplotlib.pyplot as plt\n",
        "import seaborn as sns\n",
        "\n",
        "cm = confusion_matrix(y_test, predicoes)\n",
        "categorias = label_encoder.classes_\n",
        "sns.heatmap(cm, square=True, annot=True, cmap='RdBu', cbar=False,\n",
        "            xticklabels=categorias,\n",
        "            yticklabels=categorias)\n",
        "\n",
        "plt.xlabel(\"Classe real\")\n",
        "plt.ylabel(\"Classe predita\")\n",
        "plt.show()\n"
      ],
      "metadata": {
        "colab": {
          "base_uri": "https://localhost:8080/",
          "height": 506
        },
        "id": "xk4JOHdSsj3Z",
        "outputId": "86456402-76e5-4089-81b2-b140f9811266"
      },
      "execution_count": 18,
      "outputs": [
        {
          "output_type": "display_data",
          "data": {
            "text/plain": [
              "<Figure size 640x480 with 1 Axes>"
            ],
            "image/png": "[encoded data removed]"
          },
          "metadata": {}
        }
      ]
    },
    {
      "cell_type": "code",
      "source": [
        "# Salvar o modelo e o tokenizer\n",
        "model.save_pretrained('./results')\n",
        "tokenizer.save_pretrained('./results')\n",
        "\n",
        "# Salvar o LabelEncoder\n",
        "import joblib\n",
        "joblib.dump(label_encoder, './results/label_encoder.pkl')"
      ],
      "metadata": {
        "colab": {
          "base_uri": "https://localhost:8080/"
        },
        "id": "GmQvPKlNzKe9",
        "outputId": "661037f8-0156-4cf0-ee7d-1f8d88aa4250"
      },
      "execution_count": 21,
      "outputs": [
        {
          "output_type": "execute_result",
          "data": {
            "text/plain": [
              "['./results/label_encoder.pkl']"
            ]
          },
          "metadata": {},
          "execution_count": 21
        }
      ]
    },
    {
      "cell_type": "markdown",
      "source": [
        "Vantagens:\n",
        "\n",
        "Desempenho em Linguagem Portuguesa: BERTimbau é treinado para o português, o que permite um melhor entendimento;\n",
        "\n",
        "\n",
        "Limitações:\n",
        "\n",
        "Requisitos Computacionais: Exigem uma quantidade significativa de memória RAM e poder de processamento;\n",
        "\n",
        "Tempo de Treinamento: O treinamento com o BERTimbau é demorado."
      ],
      "metadata": {
        "id": "05YJ9Bk5wzl1"
      }
    },
    {
      "cell_type": "markdown",
      "source": [
        "##Análise de 3 novos sentimentos que não estão no arquivo.csv"
      ],
      "metadata": {
        "id": "9S7ek9fH2UkN"
      }
    },
    {
      "cell_type": "code",
      "source": [
        "import torch\n",
        "from transformers import BertTokenizer, BertForSequenceClassification\n",
        "import joblib\n",
        "import pandas as pd\n",
        "\n",
        "# Caminho para o modelo treinado, tokenizer e LabelEncoder\n",
        "path_bert = 'neuralmind/bert-base-portuguese-cased'\n",
        "model_path = './results'\n",
        "label_encoder_path = './results/label_encoder.pkl'\n",
        "\n",
        "# Carregar o tokenizer, o modelo e o LabelEncoder\n",
        "tokenizer = BertTokenizer.from_pretrained(path_bert)\n",
        "model = BertForSequenceClassification.from_pretrained(model_path)\n",
        "label_encoder = joblib.load(label_encoder_path)\n",
        "\n",
        "# Novos comentários para análise\n",
        "novos_comentarios = [\n",
        "    \"Eu simplesmente amei, achei minha cara. É bem gostosinho e bem quentinho.\",  #Comentário SHEIN\n",
        "    \"Fiz o teste de qualidade pelo congelamento e infelizmente a cápsula congelou, mesmo tendo o selo meg3. Escolhi com tanto cuidado e não gostei do resultado..\", #Comentário Amazon\n",
        "    \"Produto de boa qualidade, tudo certo..\" #Comentário Casas Bahia\n",
        "]\n",
        "\n",
        "# Função de pré-processamento\n",
        "def preprocess_function(texts):\n",
        "    return tokenizer(texts, padding='max_length', truncation=True, max_length=128, return_tensors='pt')\n",
        "\n",
        "# Tokenizar os novos comentários\n",
        "inputs = preprocess_function(novos_comentarios)\n",
        "\n",
        "# Fazer as previsões\n",
        "model.eval()  # Coloca o modelo em modo de avaliação\n",
        "with torch.no_grad():\n",
        "    outputs = model(**inputs)\n",
        "    logits = outputs.logits\n",
        "\n",
        "# Obter as previsões\n",
        "predicoes = torch.argmax(logits, dim=1).numpy()\n",
        "\n",
        "# Mapear as previsões de volta para as categorias\n",
        "categorias = label_encoder.classes_\n",
        "resultados = categorias[predicoes]\n",
        "\n",
        "# Exibir os resultados\n",
        "for comentario, resultado in zip(novos_comentarios, resultados):\n",
        "    print(f\"Comentário: {comentario}\\nSentimento Predito: {resultado}\\n\")\n",
        "\n"
      ],
      "metadata": {
        "colab": {
          "base_uri": "https://localhost:8080/"
        },
        "id": "TjPr6jLDyU5O",
        "outputId": "043ce34d-944a-4499-d68d-ba3319458337"
      },
      "execution_count": 24,
      "outputs": [
        {
          "output_type": "stream",
          "name": "stdout",
          "text": [
            "Comentário: Eu simplesmente amei, achei minha cara. É bem gostosinho e bem quentinho.\n",
            "Sentimento Predito: happiness\n",
            "\n",
            "Comentário: Fiz o teste de qualidade pelo congelamento e infelizmente a cápsula congelou, mesmo tendo o selo meg3. Escolhi com tanto cuidado e não gostei do resultado..\n",
            "Sentimento Predito: disgust\n",
            "\n",
            "Comentário: Produto de boa qualidade, tudo certo..\n",
            "Sentimento Predito: happiness\n",
            "\n"
          ]
        }
      ]
    }
  ]
}