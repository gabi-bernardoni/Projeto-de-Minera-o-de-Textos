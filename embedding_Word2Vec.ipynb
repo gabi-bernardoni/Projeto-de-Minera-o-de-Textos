{
  "nbformat": 4,
  "nbformat_minor": 0,
  "metadata": {
    "colab": {
      "provenance": [],
      "authorship_tag": "ABX9TyNRepDLYXYFHtJ8ciwrddzN",
      "include_colab_link": true
    },
    "kernelspec": {
      "name": "python3",
      "display_name": "Python 3"
    },
    "language_info": {
      "name": "python"
    }
  },
  "cells": [
    {
      "cell_type": "markdown",
      "metadata": {
        "id": "view-in-github",
        "colab_type": "text"
      },
      "source": [
        "<a href=\"https://colab.research.google.com/github/gabi-bernardoni/Projeto-de-Mineracao-de-Textos/blob/main/embedding_Word2Vec.ipynb\" target=\"_parent\"><img src=\"https://colab.research.google.com/assets/colab-badge.svg\" alt=\"Open In Colab\"/></a>"
      ]
    },
    {
      "cell_type": "markdown",
      "source": [
        "##Implementação de Rede Neural com Embedding_Word2Vec\n",
        "Embeddings são vetores criados por modelos de aprendizado de máquina com a finalidade de capturar dados significativos sobre cada objeto.\n",
        "\n",
        "Word2Vec é uma técnica de embedding de palavras que transforma palavras em vetores de características contínuas. Esses vetores capturam relações semânticas e contextuais entre as palavras.\n",
        "\n",
        "As redes neurais convolucionais (Convolutional neural network ou CNNs) são um subconjunto do aprendizado de máquina utilizadas com mais frequência para tarefas de classificação.\n",
        "\n"
      ],
      "metadata": {
        "id": "FcqZ8tAJorJN"
      }
    },
    {
      "cell_type": "markdown",
      "source": [
        "##Funcionamento do Modelo\n",
        "\n",
        "O modelo funciona da seguinte forma:\n",
        "\n",
        "Primeiro, carrega os dados das avaliações e sentimentos de um arquivo CSV. Em seguida, limpa o texto das avaliações, removendo caracteres especiais, convertendo tudo para minúsculas e eliminando palavras de parada comuns. Após essa limpeza, os textos são tokenizados e convertidos em sequências de palavras.\n",
        "\n",
        "O modelo Word2Vec é treinado com essas palavras para criar vetores de palavras (embeddings), que capturam o significado semântico de cada palavra. Esses vetores são usados para inicializar a camada de embeddings da rede neural.\n",
        "\n",
        "A rede neural convolucional (CNN) é então definida e composta por camadas de convolução, pooling e camadas densas. Ela é treinada usando as sequências de palavras tokenizadas e os rótulos de sentimento.\n",
        "\n",
        "Word2Vec + CNN: Utiliza o Word2Vec para transformar palavras em vetores e treina uma rede neural convolucional para capturar padrões nos textos."
      ],
      "metadata": {
        "id": "f5btNGh1HLk2"
      }
    },
    {
      "cell_type": "code",
      "source": [
        "pip install scikit-learn gensim nltk # Instalação de Pacote gensim"
      ],
      "metadata": {
        "colab": {
          "base_uri": "https://localhost:8080/"
        },
        "id": "Q87PJ4fMOQ7a",
        "outputId": "1d2523c4-fcaa-4fbe-96bb-1fb4b1b618ba"
      },
      "execution_count": null,
      "outputs": [
        {
          "output_type": "stream",
          "name": "stdout",
          "text": [
            "Requirement already satisfied: scikit-learn in /usr/local/lib/python3.10/dist-packages (1.3.2)\n",
            "Requirement already satisfied: gensim in /usr/local/lib/python3.10/dist-packages (4.3.3)\n",
            "Requirement already satisfied: nltk in /usr/local/lib/python3.10/dist-packages (3.8.1)\n",
            "Requirement already satisfied: numpy<2.0,>=1.17.3 in /usr/local/lib/python3.10/dist-packages (from scikit-learn) (1.25.2)\n",
            "Requirement already satisfied: scipy>=1.5.0 in /usr/local/lib/python3.10/dist-packages (from scikit-learn) (1.13.1)\n",
            "Requirement already satisfied: joblib>=1.1.1 in /usr/local/lib/python3.10/dist-packages (from scikit-learn) (1.4.2)\n",
            "Requirement already satisfied: threadpoolctl>=2.0.0 in /usr/local/lib/python3.10/dist-packages (from scikit-learn) (3.5.0)\n",
            "Requirement already satisfied: smart-open>=1.8.1 in /usr/local/lib/python3.10/dist-packages (from gensim) (7.0.4)\n",
            "Requirement already satisfied: click in /usr/local/lib/python3.10/dist-packages (from nltk) (8.1.7)\n",
            "Requirement already satisfied: regex>=2021.8.3 in /usr/local/lib/python3.10/dist-packages (from nltk) (2024.5.15)\n",
            "Requirement already satisfied: tqdm in /usr/local/lib/python3.10/dist-packages (from nltk) (4.66.4)\n",
            "Requirement already satisfied: wrapt in /usr/local/lib/python3.10/dist-packages (from smart-open>=1.8.1->gensim) (1.14.1)\n"
          ]
        }
      ]
    },
    {
      "cell_type": "code",
      "source": [
        "import pandas as pd    #Instalar Bibliotecas\n",
        "import regex # trabalhar com expressões regulares\n",
        "import numpy as np\n",
        "import string\n",
        "import nltk\n",
        "from nltk.corpus import stopwords\n",
        "from nltk.tokenize import word_tokenize\n",
        "from gensim.models import Word2Vec\n",
        "from tensorflow.keras.preprocessing.text import Tokenizer\n",
        "from tensorflow.keras.preprocessing.sequence import pad_sequences\n",
        "from tensorflow.keras.layers import Embedding, Conv1D, MaxPooling1D, Flatten, Dense\n",
        "from tensorflow.keras.models import Sequential\n",
        "from sklearn.model_selection import train_test_split\n",
        "from sklearn.preprocessing import LabelEncoder\n",
        "from sklearn.metrics import classification_report, confusion_matrix\n",
        "import matplotlib.pyplot as plt\n",
        "import seaborn as sns"
      ],
      "metadata": {
        "id": "l0I8VZgR6wXb"
      },
      "execution_count": null,
      "outputs": []
    },
    {
      "cell_type": "markdown",
      "source": [
        "##Carregamento do Dados\n",
        "\n",
        "Abaixo podemos observar que estes dados estão distribuidos em 10 Categorias, sendo 7 sentimentos e 3 polaridades"
      ],
      "metadata": {
        "id": "LFLfFA6s9CcO"
      }
    },
    {
      "cell_type": "code",
      "execution_count": null,
      "metadata": {
        "id": "8Gpw-VlGocf5",
        "colab": {
          "base_uri": "https://localhost:8080/",
          "height": 206
        },
        "outputId": "d31b6f7d-1e0e-4104-8e85-41b07911d96a"
      },
      "outputs": [
        {
          "output_type": "execute_result",
          "data": {
            "text/plain": [
              "                               reviewId app_name  \\\n",
              "0  01e23c15-44bf-46b7-b280-40e880d9d49b   Shopee   \n",
              "1  df40ba7c-075d-48dc-b798-21466dfb41d6   Shopee   \n",
              "2  59490b23-b17b-4bba-855b-b5053dadc0db   Shopee   \n",
              "3  48fd8168-1e42-4475-9a99-935c2fd48769   Shopee   \n",
              "4  f4e1468b-6d97-4f1a-927d-1afee2bfbe75   Shopee   \n",
              "\n",
              "                                             content sentiment_polarity  \\\n",
              "0  O app da Shopee é razoável. Apesar de ser fáci...           positive   \n",
              "1  O app é bem otimizado, fácil de visualizar os ...           positive   \n",
              "2  O app é muito bom, prático e fácil de entender...           positive   \n",
              "3  Aplicativo muito bom. Mas algo que me chateou ...           positive   \n",
              "4  o app é muito bom, porém tenho tido dificuldad...           negative   \n",
              "\n",
              "  sentiment Unnamed: 5  \n",
              "0   sadness        NaN  \n",
              "1   sadness        NaN  \n",
              "2   sadness        NaN  \n",
              "3   sadness        NaN  \n",
              "4   disgust        NaN  "
            ],
            "text/html": [
              "\n",
              "  <div id=\"df-ebac4457-9147-489a-97fa-dff1cdc0e15e\" class=\"colab-df-container\">\n",
              "    <div>\n",
              "<style scoped>\n",
              "    .dataframe tbody tr th:only-of-type {\n",
              "        vertical-align: middle;\n",
              "    }\n",
              "\n",
              "    .dataframe tbody tr th {\n",
              "        vertical-align: top;\n",
              "    }\n",
              "\n",
              "    .dataframe thead th {\n",
              "        text-align: right;\n",
              "    }\n",
              "</style>\n",
              "<table border=\"1\" class=\"dataframe\">\n",
              "  <thead>\n",
              "    <tr style=\"text-align: right;\">\n",
              "      <th></th>\n",
              "      <th>reviewId</th>\n",
              "      <th>app_name</th>\n",
              "      <th>content</th>\n",
              "      <th>sentiment_polarity</th>\n",
              "      <th>sentiment</th>\n",
              "      <th>Unnamed: 5</th>\n",
              "    </tr>\n",
              "  </thead>\n",
              "  <tbody>\n",
              "    <tr>\n",
              "      <th>0</th>\n",
              "      <td>01e23c15-44bf-46b7-b280-40e880d9d49b</td>\n",
              "      <td>Shopee</td>\n",
              "      <td>O app da Shopee é razoável. Apesar de ser fáci...</td>\n",
              "      <td>positive</td>\n",
              "      <td>sadness</td>\n",
              "      <td>NaN</td>\n",
              "    </tr>\n",
              "    <tr>\n",
              "      <th>1</th>\n",
              "      <td>df40ba7c-075d-48dc-b798-21466dfb41d6</td>\n",
              "      <td>Shopee</td>\n",
              "      <td>O app é bem otimizado, fácil de visualizar os ...</td>\n",
              "      <td>positive</td>\n",
              "      <td>sadness</td>\n",
              "      <td>NaN</td>\n",
              "    </tr>\n",
              "    <tr>\n",
              "      <th>2</th>\n",
              "      <td>59490b23-b17b-4bba-855b-b5053dadc0db</td>\n",
              "      <td>Shopee</td>\n",
              "      <td>O app é muito bom, prático e fácil de entender...</td>\n",
              "      <td>positive</td>\n",
              "      <td>sadness</td>\n",
              "      <td>NaN</td>\n",
              "    </tr>\n",
              "    <tr>\n",
              "      <th>3</th>\n",
              "      <td>48fd8168-1e42-4475-9a99-935c2fd48769</td>\n",
              "      <td>Shopee</td>\n",
              "      <td>Aplicativo muito bom. Mas algo que me chateou ...</td>\n",
              "      <td>positive</td>\n",
              "      <td>sadness</td>\n",
              "      <td>NaN</td>\n",
              "    </tr>\n",
              "    <tr>\n",
              "      <th>4</th>\n",
              "      <td>f4e1468b-6d97-4f1a-927d-1afee2bfbe75</td>\n",
              "      <td>Shopee</td>\n",
              "      <td>o app é muito bom, porém tenho tido dificuldad...</td>\n",
              "      <td>negative</td>\n",
              "      <td>disgust</td>\n",
              "      <td>NaN</td>\n",
              "    </tr>\n",
              "  </tbody>\n",
              "</table>\n",
              "</div>\n",
              "    <div class=\"colab-df-buttons\">\n",
              "\n",
              "  <div class=\"colab-df-container\">\n",
              "    <button class=\"colab-df-convert\" onclick=\"convertToInteractive('df-ebac4457-9147-489a-97fa-dff1cdc0e15e')\"\n",
              "            title=\"Convert this dataframe to an interactive table.\"\n",
              "            style=\"display:none;\">\n",
              "\n",
              "  <svg xmlns=\"http://www.w3.org/2000/svg\" height=\"24px\" viewBox=\"0 -960 960 960\">\n",
              "    <path d=\"M120-120v-720h720v720H120Zm60-500h600v-160H180v160Zm220 220h160v-160H400v160Zm0 220h160v-160H400v160ZM180-400h160v-160H180v160Zm440 0h160v-160H620v160ZM180-180h160v-160H180v160Zm440 0h160v-160H620v160Z\"/>\n",
              "  </svg>\n",
              "    </button>\n",
              "\n",
              "  <style>\n",
              "    .colab-df-container {\n",
              "      display:flex;\n",
              "      gap: 12px;\n",
              "    }\n",
              "\n",
              "    .colab-df-convert {\n",
              "      background-color: #E8F0FE;\n",
              "      border: none;\n",
              "      border-radius: 50%;\n",
              "      cursor: pointer;\n",
              "      display: none;\n",
              "      fill: #1967D2;\n",
              "      height: 32px;\n",
              "      padding: 0 0 0 0;\n",
              "      width: 32px;\n",
              "    }\n",
              "\n",
              "    .colab-df-convert:hover {\n",
              "      background-color: #E2EBFA;\n",
              "      box-shadow: 0px 1px 2px rgba(60, 64, 67, 0.3), 0px 1px 3px 1px rgba(60, 64, 67, 0.15);\n",
              "      fill: #174EA6;\n",
              "    }\n",
              "\n",
              "    .colab-df-buttons div {\n",
              "      margin-bottom: 4px;\n",
              "    }\n",
              "\n",
              "    [theme=dark] .colab-df-convert {\n",
              "      background-color: #3B4455;\n",
              "      fill: #D2E3FC;\n",
              "    }\n",
              "\n",
              "    [theme=dark] .colab-df-convert:hover {\n",
              "      background-color: #434B5C;\n",
              "      box-shadow: 0px 1px 3px 1px rgba(0, 0, 0, 0.15);\n",
              "      filter: drop-shadow(0px 1px 2px rgba(0, 0, 0, 0.3));\n",
              "      fill: #FFFFFF;\n",
              "    }\n",
              "  </style>\n",
              "\n",
              "    <script>\n",
              "      const buttonEl =\n",
              "        document.querySelector('#df-ebac4457-9147-489a-97fa-dff1cdc0e15e button.colab-df-convert');\n",
              "      buttonEl.style.display =\n",
              "        google.colab.kernel.accessAllowed ? 'block' : 'none';\n",
              "\n",
              "      async function convertToInteractive(key) {\n",
              "        const element = document.querySelector('#df-ebac4457-9147-489a-97fa-dff1cdc0e15e');\n",
              "        const dataTable =\n",
              "          await google.colab.kernel.invokeFunction('convertToInteractive',\n",
              "                                                    [key], {});\n",
              "        if (!dataTable) return;\n",
              "\n",
              "        const docLinkHtml = 'Like what you see? Visit the ' +\n",
              "          '<a target=\"_blank\" href=https://colab.research.google.com/notebooks/data_table.ipynb>data table notebook</a>'\n",
              "          + ' to learn more about interactive tables.';\n",
              "        element.innerHTML = '';\n",
              "        dataTable['output_type'] = 'display_data';\n",
              "        await google.colab.output.renderOutput(dataTable, element);\n",
              "        const docLink = document.createElement('div');\n",
              "        docLink.innerHTML = docLinkHtml;\n",
              "        element.appendChild(docLink);\n",
              "      }\n",
              "    </script>\n",
              "  </div>\n",
              "\n",
              "\n",
              "<div id=\"df-95bc9656-cc59-4169-a48d-db6b5b04674e\">\n",
              "  <button class=\"colab-df-quickchart\" onclick=\"quickchart('df-95bc9656-cc59-4169-a48d-db6b5b04674e')\"\n",
              "            title=\"Suggest charts\"\n",
              "            style=\"display:none;\">\n",
              "\n",
              "<svg xmlns=\"http://www.w3.org/2000/svg\" height=\"24px\"viewBox=\"0 0 24 24\"\n",
              "     width=\"24px\">\n",
              "    <g>\n",
              "        <path d=\"M19 3H5c-1.1 0-2 .9-2 2v14c0 1.1.9 2 2 2h14c1.1 0 2-.9 2-2V5c0-1.1-.9-2-2-2zM9 17H7v-7h2v7zm4 0h-2V7h2v10zm4 0h-2v-4h2v4z\"/>\n",
              "    </g>\n",
              "</svg>\n",
              "  </button>\n",
              "\n",
              "<style>\n",
              "  .colab-df-quickchart {\n",
              "      --bg-color: #E8F0FE;\n",
              "      --fill-color: #1967D2;\n",
              "      --hover-bg-color: #E2EBFA;\n",
              "      --hover-fill-color: #174EA6;\n",
              "      --disabled-fill-color: #AAA;\n",
              "      --disabled-bg-color: #DDD;\n",
              "  }\n",
              "\n",
              "  [theme=dark] .colab-df-quickchart {\n",
              "      --bg-color: #3B4455;\n",
              "      --fill-color: #D2E3FC;\n",
              "      --hover-bg-color: #434B5C;\n",
              "      --hover-fill-color: #FFFFFF;\n",
              "      --disabled-bg-color: #3B4455;\n",
              "      --disabled-fill-color: #666;\n",
              "  }\n",
              "\n",
              "  .colab-df-quickchart {\n",
              "    background-color: var(--bg-color);\n",
              "    border: none;\n",
              "    border-radius: 50%;\n",
              "    cursor: pointer;\n",
              "    display: none;\n",
              "    fill: var(--fill-color);\n",
              "    height: 32px;\n",
              "    padding: 0;\n",
              "    width: 32px;\n",
              "  }\n",
              "\n",
              "  .colab-df-quickchart:hover {\n",
              "    background-color: var(--hover-bg-color);\n",
              "    box-shadow: 0 1px 2px rgba(60, 64, 67, 0.3), 0 1px 3px 1px rgba(60, 64, 67, 0.15);\n",
              "    fill: var(--button-hover-fill-color);\n",
              "  }\n",
              "\n",
              "  .colab-df-quickchart-complete:disabled,\n",
              "  .colab-df-quickchart-complete:disabled:hover {\n",
              "    background-color: var(--disabled-bg-color);\n",
              "    fill: var(--disabled-fill-color);\n",
              "    box-shadow: none;\n",
              "  }\n",
              "\n",
              "  .colab-df-spinner {\n",
              "    border: 2px solid var(--fill-color);\n",
              "    border-color: transparent;\n",
              "    border-bottom-color: var(--fill-color);\n",
              "    animation:\n",
              "      spin 1s steps(1) infinite;\n",
              "  }\n",
              "\n",
              "  @keyframes spin {\n",
              "    0% {\n",
              "      border-color: transparent;\n",
              "      border-bottom-color: var(--fill-color);\n",
              "      border-left-color: var(--fill-color);\n",
              "    }\n",
              "    20% {\n",
              "      border-color: transparent;\n",
              "      border-left-color: var(--fill-color);\n",
              "      border-top-color: var(--fill-color);\n",
              "    }\n",
              "    30% {\n",
              "      border-color: transparent;\n",
              "      border-left-color: var(--fill-color);\n",
              "      border-top-color: var(--fill-color);\n",
              "      border-right-color: var(--fill-color);\n",
              "    }\n",
              "    40% {\n",
              "      border-color: transparent;\n",
              "      border-right-color: var(--fill-color);\n",
              "      border-top-color: var(--fill-color);\n",
              "    }\n",
              "    60% {\n",
              "      border-color: transparent;\n",
              "      border-right-color: var(--fill-color);\n",
              "    }\n",
              "    80% {\n",
              "      border-color: transparent;\n",
              "      border-right-color: var(--fill-color);\n",
              "      border-bottom-color: var(--fill-color);\n",
              "    }\n",
              "    90% {\n",
              "      border-color: transparent;\n",
              "      border-bottom-color: var(--fill-color);\n",
              "    }\n",
              "  }\n",
              "</style>\n",
              "\n",
              "  <script>\n",
              "    async function quickchart(key) {\n",
              "      const quickchartButtonEl =\n",
              "        document.querySelector('#' + key + ' button');\n",
              "      quickchartButtonEl.disabled = true;  // To prevent multiple clicks.\n",
              "      quickchartButtonEl.classList.add('colab-df-spinner');\n",
              "      try {\n",
              "        const charts = await google.colab.kernel.invokeFunction(\n",
              "            'suggestCharts', [key], {});\n",
              "      } catch (error) {\n",
              "        console.error('Error during call to suggestCharts:', error);\n",
              "      }\n",
              "      quickchartButtonEl.classList.remove('colab-df-spinner');\n",
              "      quickchartButtonEl.classList.add('colab-df-quickchart-complete');\n",
              "    }\n",
              "    (() => {\n",
              "      let quickchartButtonEl =\n",
              "        document.querySelector('#df-95bc9656-cc59-4169-a48d-db6b5b04674e button');\n",
              "      quickchartButtonEl.style.display =\n",
              "        google.colab.kernel.accessAllowed ? 'block' : 'none';\n",
              "    })();\n",
              "  </script>\n",
              "</div>\n",
              "\n",
              "    </div>\n",
              "  </div>\n"
            ],
            "application/vnd.google.colaboratory.intrinsic+json": {
              "type": "dataframe",
              "variable_name": "dados_avaliacao",
              "summary": "{\n  \"name\": \"dados_avaliacao\",\n  \"rows\": 3011,\n  \"fields\": [\n    {\n      \"column\": \"reviewId\",\n      \"properties\": {\n        \"dtype\": \"string\",\n        \"num_unique_values\": 3011,\n        \"samples\": [\n          \"5b4892f1-b62c-46fb-9fdb-888c985e837d\",\n          \"7f5c7733-6e47-4f7e-b292-2a7605644df4\",\n          \"edddb2f5-7858-4204-9af1-b18ceefc8360\"\n        ],\n        \"semantic_type\": \"\",\n        \"description\": \"\"\n      }\n    },\n    {\n      \"column\": \"app_name\",\n      \"properties\": {\n        \"dtype\": \"category\",\n        \"num_unique_values\": 10,\n        \"samples\": [\n          \"CapCut - Editor de V\\u00eddeos\",\n          \"SHEIN\",\n          \"Photo&File Detect\"\n        ],\n        \"semantic_type\": \"\",\n        \"description\": \"\"\n      }\n    },\n    {\n      \"column\": \"content\",\n      \"properties\": {\n        \"dtype\": \"string\",\n        \"num_unique_values\": 3011,\n        \"samples\": [\n          \"Fiz uma compra internacional com um valor baixo e era um objeto pequeno, leve e foi taxado! Fiz uma compra nacional e faz uma semana que est\\u00e1 sendo processado o pedido, se tivesse como cancelar j\\u00e1 tinha cancelado! Shein cada dia pior infelizmente\\ud83d\\udc4e\",\n          \"Melhorem a pr\\u00e9via dos links, que nem sempre carregam corretamente. As mensagens deveriam ser apagadas discretamente, sem o aviso: \\\"esta mensagem foi apagada\\\". Devia ter uma forma de marcar todo mundo de uma vez nos chats em grupo, como o comando @everyone do discord. A organiza\\u00e7\\u00e3o atual das figurinhas \\u00e9 inconveniente e possui bugs na hora de conferir as favoritas. A se\\u00e7\\u00e3o \\\"Atualiza\\u00e7\\u00f5es\\\" oculta os status silenciados, de forma que n\\u00e3o d\\u00e1 pra ver quem est\\u00e1 silenciado e reativar suas publica\\u00e7\\u00f5es.\",\n          \"S\\u00f3 vou dar uma estrela e \\u00e9 pelo fato de precisar pra poder avaliar, caso contr\\u00e1rio n\\u00e3o daria nenhuma simplesmente pela decep\\u00e7\\u00e3o, o aplicativo \\u00e9 bom e muito f\\u00e1cil de comprar. Mas estou decepcionada porque tive problemas com a minha compra, pedi o reembolso e nunca me deram resposta, perdi dinheiro e n\\u00e3o querem ressarcir. Nunca mais compro nada aqui.\"\n        ],\n        \"semantic_type\": \"\",\n        \"description\": \"\"\n      }\n    },\n    {\n      \"column\": \"sentiment_polarity\",\n      \"properties\": {\n        \"dtype\": \"category\",\n        \"num_unique_values\": 3,\n        \"samples\": [\n          \"positive\",\n          \"negative\",\n          \"neutral\"\n        ],\n        \"semantic_type\": \"\",\n        \"description\": \"\"\n      }\n    },\n    {\n      \"column\": \"sentiment\",\n      \"properties\": {\n        \"dtype\": \"category\",\n        \"num_unique_values\": 7,\n        \"samples\": [\n          \"sadness\",\n          \"disgust\",\n          \"surprise\"\n        ],\n        \"semantic_type\": \"\",\n        \"description\": \"\"\n      }\n    },\n    {\n      \"column\": \"Unnamed: 5\",\n      \"properties\": {\n        \"dtype\": \"category\",\n        \"num_unique_values\": 1,\n        \"samples\": [\n          \"X\"\n        ],\n        \"semantic_type\": \"\",\n        \"description\": \"\"\n      }\n    }\n  ]\n}"
            }
          },
          "metadata": {},
          "execution_count": 112
        }
      ],
      "source": [
        "dados_avaliacao = pd.read_csv('avaliacoes.csv')\n",
        "dados_avaliacao.head(5)"
      ]
    },
    {
      "cell_type": "code",
      "source": [
        "dados_avaliacao.describe()"
      ],
      "metadata": {
        "colab": {
          "base_uri": "https://localhost:8080/",
          "height": 175
        },
        "id": "Jm_aNd7m9M0D",
        "outputId": "dfe45d5b-23c4-4322-ed75-dc219e914269"
      },
      "execution_count": null,
      "outputs": [
        {
          "output_type": "execute_result",
          "data": {
            "text/plain": [
              "                                    reviewId app_name  \\\n",
              "count                                   3011     3011   \n",
              "unique                                  3011       10   \n",
              "top     01e23c15-44bf-46b7-b280-40e880d9d49b   Shopee   \n",
              "freq                                       1      303   \n",
              "\n",
              "                                                  content sentiment_polarity  \\\n",
              "count                                                3011               3011   \n",
              "unique                                               3011                  3   \n",
              "top     O app da Shopee é razoável. Apesar de ser fáci...           negative   \n",
              "freq                                                    1               1742   \n",
              "\n",
              "       sentiment Unnamed: 5  \n",
              "count       3011          1  \n",
              "unique         7          1  \n",
              "top      disgust          X  \n",
              "freq         952          1  "
            ],
            "text/html": [
              "\n",
              "  <div id=\"df-08e0b36e-f401-404f-8109-e37c1875cbd3\" class=\"colab-df-container\">\n",
              "    <div>\n",
              "<style scoped>\n",
              "    .dataframe tbody tr th:only-of-type {\n",
              "        vertical-align: middle;\n",
              "    }\n",
              "\n",
              "    .dataframe tbody tr th {\n",
              "        vertical-align: top;\n",
              "    }\n",
              "\n",
              "    .dataframe thead th {\n",
              "        text-align: right;\n",
              "    }\n",
              "</style>\n",
              "<table border=\"1\" class=\"dataframe\">\n",
              "  <thead>\n",
              "    <tr style=\"text-align: right;\">\n",
              "      <th></th>\n",
              "      <th>reviewId</th>\n",
              "      <th>app_name</th>\n",
              "      <th>content</th>\n",
              "      <th>sentiment_polarity</th>\n",
              "      <th>sentiment</th>\n",
              "      <th>Unnamed: 5</th>\n",
              "    </tr>\n",
              "  </thead>\n",
              "  <tbody>\n",
              "    <tr>\n",
              "      <th>count</th>\n",
              "      <td>3011</td>\n",
              "      <td>3011</td>\n",
              "      <td>3011</td>\n",
              "      <td>3011</td>\n",
              "      <td>3011</td>\n",
              "      <td>1</td>\n",
              "    </tr>\n",
              "    <tr>\n",
              "      <th>unique</th>\n",
              "      <td>3011</td>\n",
              "      <td>10</td>\n",
              "      <td>3011</td>\n",
              "      <td>3</td>\n",
              "      <td>7</td>\n",
              "      <td>1</td>\n",
              "    </tr>\n",
              "    <tr>\n",
              "      <th>top</th>\n",
              "      <td>01e23c15-44bf-46b7-b280-40e880d9d49b</td>\n",
              "      <td>Shopee</td>\n",
              "      <td>O app da Shopee é razoável. Apesar de ser fáci...</td>\n",
              "      <td>negative</td>\n",
              "      <td>disgust</td>\n",
              "      <td>X</td>\n",
              "    </tr>\n",
              "    <tr>\n",
              "      <th>freq</th>\n",
              "      <td>1</td>\n",
              "      <td>303</td>\n",
              "      <td>1</td>\n",
              "      <td>1742</td>\n",
              "      <td>952</td>\n",
              "      <td>1</td>\n",
              "    </tr>\n",
              "  </tbody>\n",
              "</table>\n",
              "</div>\n",
              "    <div class=\"colab-df-buttons\">\n",
              "\n",
              "  <div class=\"colab-df-container\">\n",
              "    <button class=\"colab-df-convert\" onclick=\"convertToInteractive('df-08e0b36e-f401-404f-8109-e37c1875cbd3')\"\n",
              "            title=\"Convert this dataframe to an interactive table.\"\n",
              "            style=\"display:none;\">\n",
              "\n",
              "  <svg xmlns=\"http://www.w3.org/2000/svg\" height=\"24px\" viewBox=\"0 -960 960 960\">\n",
              "    <path d=\"M120-120v-720h720v720H120Zm60-500h600v-160H180v160Zm220 220h160v-160H400v160Zm0 220h160v-160H400v160ZM180-400h160v-160H180v160Zm440 0h160v-160H620v160ZM180-180h160v-160H180v160Zm440 0h160v-160H620v160Z\"/>\n",
              "  </svg>\n",
              "    </button>\n",
              "\n",
              "  <style>\n",
              "    .colab-df-container {\n",
              "      display:flex;\n",
              "      gap: 12px;\n",
              "    }\n",
              "\n",
              "    .colab-df-convert {\n",
              "      background-color: #E8F0FE;\n",
              "      border: none;\n",
              "      border-radius: 50%;\n",
              "      cursor: pointer;\n",
              "      display: none;\n",
              "      fill: #1967D2;\n",
              "      height: 32px;\n",
              "      padding: 0 0 0 0;\n",
              "      width: 32px;\n",
              "    }\n",
              "\n",
              "    .colab-df-convert:hover {\n",
              "      background-color: #E2EBFA;\n",
              "      box-shadow: 0px 1px 2px rgba(60, 64, 67, 0.3), 0px 1px 3px 1px rgba(60, 64, 67, 0.15);\n",
              "      fill: #174EA6;\n",
              "    }\n",
              "\n",
              "    .colab-df-buttons div {\n",
              "      margin-bottom: 4px;\n",
              "    }\n",
              "\n",
              "    [theme=dark] .colab-df-convert {\n",
              "      background-color: #3B4455;\n",
              "      fill: #D2E3FC;\n",
              "    }\n",
              "\n",
              "    [theme=dark] .colab-df-convert:hover {\n",
              "      background-color: #434B5C;\n",
              "      box-shadow: 0px 1px 3px 1px rgba(0, 0, 0, 0.15);\n",
              "      filter: drop-shadow(0px 1px 2px rgba(0, 0, 0, 0.3));\n",
              "      fill: #FFFFFF;\n",
              "    }\n",
              "  </style>\n",
              "\n",
              "    <script>\n",
              "      const buttonEl =\n",
              "        document.querySelector('#df-08e0b36e-f401-404f-8109-e37c1875cbd3 button.colab-df-convert');\n",
              "      buttonEl.style.display =\n",
              "        google.colab.kernel.accessAllowed ? 'block' : 'none';\n",
              "\n",
              "      async function convertToInteractive(key) {\n",
              "        const element = document.querySelector('#df-08e0b36e-f401-404f-8109-e37c1875cbd3');\n",
              "        const dataTable =\n",
              "          await google.colab.kernel.invokeFunction('convertToInteractive',\n",
              "                                                    [key], {});\n",
              "        if (!dataTable) return;\n",
              "\n",
              "        const docLinkHtml = 'Like what you see? Visit the ' +\n",
              "          '<a target=\"_blank\" href=https://colab.research.google.com/notebooks/data_table.ipynb>data table notebook</a>'\n",
              "          + ' to learn more about interactive tables.';\n",
              "        element.innerHTML = '';\n",
              "        dataTable['output_type'] = 'display_data';\n",
              "        await google.colab.output.renderOutput(dataTable, element);\n",
              "        const docLink = document.createElement('div');\n",
              "        docLink.innerHTML = docLinkHtml;\n",
              "        element.appendChild(docLink);\n",
              "      }\n",
              "    </script>\n",
              "  </div>\n",
              "\n",
              "\n",
              "<div id=\"df-7117db57-2814-4752-937d-76675bd01ed5\">\n",
              "  <button class=\"colab-df-quickchart\" onclick=\"quickchart('df-7117db57-2814-4752-937d-76675bd01ed5')\"\n",
              "            title=\"Suggest charts\"\n",
              "            style=\"display:none;\">\n",
              "\n",
              "<svg xmlns=\"http://www.w3.org/2000/svg\" height=\"24px\"viewBox=\"0 0 24 24\"\n",
              "     width=\"24px\">\n",
              "    <g>\n",
              "        <path d=\"M19 3H5c-1.1 0-2 .9-2 2v14c0 1.1.9 2 2 2h14c1.1 0 2-.9 2-2V5c0-1.1-.9-2-2-2zM9 17H7v-7h2v7zm4 0h-2V7h2v10zm4 0h-2v-4h2v4z\"/>\n",
              "    </g>\n",
              "</svg>\n",
              "  </button>\n",
              "\n",
              "<style>\n",
              "  .colab-df-quickchart {\n",
              "      --bg-color: #E8F0FE;\n",
              "      --fill-color: #1967D2;\n",
              "      --hover-bg-color: #E2EBFA;\n",
              "      --hover-fill-color: #174EA6;\n",
              "      --disabled-fill-color: #AAA;\n",
              "      --disabled-bg-color: #DDD;\n",
              "  }\n",
              "\n",
              "  [theme=dark] .colab-df-quickchart {\n",
              "      --bg-color: #3B4455;\n",
              "      --fill-color: #D2E3FC;\n",
              "      --hover-bg-color: #434B5C;\n",
              "      --hover-fill-color: #FFFFFF;\n",
              "      --disabled-bg-color: #3B4455;\n",
              "      --disabled-fill-color: #666;\n",
              "  }\n",
              "\n",
              "  .colab-df-quickchart {\n",
              "    background-color: var(--bg-color);\n",
              "    border: none;\n",
              "    border-radius: 50%;\n",
              "    cursor: pointer;\n",
              "    display: none;\n",
              "    fill: var(--fill-color);\n",
              "    height: 32px;\n",
              "    padding: 0;\n",
              "    width: 32px;\n",
              "  }\n",
              "\n",
              "  .colab-df-quickchart:hover {\n",
              "    background-color: var(--hover-bg-color);\n",
              "    box-shadow: 0 1px 2px rgba(60, 64, 67, 0.3), 0 1px 3px 1px rgba(60, 64, 67, 0.15);\n",
              "    fill: var(--button-hover-fill-color);\n",
              "  }\n",
              "\n",
              "  .colab-df-quickchart-complete:disabled,\n",
              "  .colab-df-quickchart-complete:disabled:hover {\n",
              "    background-color: var(--disabled-bg-color);\n",
              "    fill: var(--disabled-fill-color);\n",
              "    box-shadow: none;\n",
              "  }\n",
              "\n",
              "  .colab-df-spinner {\n",
              "    border: 2px solid var(--fill-color);\n",
              "    border-color: transparent;\n",
              "    border-bottom-color: var(--fill-color);\n",
              "    animation:\n",
              "      spin 1s steps(1) infinite;\n",
              "  }\n",
              "\n",
              "  @keyframes spin {\n",
              "    0% {\n",
              "      border-color: transparent;\n",
              "      border-bottom-color: var(--fill-color);\n",
              "      border-left-color: var(--fill-color);\n",
              "    }\n",
              "    20% {\n",
              "      border-color: transparent;\n",
              "      border-left-color: var(--fill-color);\n",
              "      border-top-color: var(--fill-color);\n",
              "    }\n",
              "    30% {\n",
              "      border-color: transparent;\n",
              "      border-left-color: var(--fill-color);\n",
              "      border-top-color: var(--fill-color);\n",
              "      border-right-color: var(--fill-color);\n",
              "    }\n",
              "    40% {\n",
              "      border-color: transparent;\n",
              "      border-right-color: var(--fill-color);\n",
              "      border-top-color: var(--fill-color);\n",
              "    }\n",
              "    60% {\n",
              "      border-color: transparent;\n",
              "      border-right-color: var(--fill-color);\n",
              "    }\n",
              "    80% {\n",
              "      border-color: transparent;\n",
              "      border-right-color: var(--fill-color);\n",
              "      border-bottom-color: var(--fill-color);\n",
              "    }\n",
              "    90% {\n",
              "      border-color: transparent;\n",
              "      border-bottom-color: var(--fill-color);\n",
              "    }\n",
              "  }\n",
              "</style>\n",
              "\n",
              "  <script>\n",
              "    async function quickchart(key) {\n",
              "      const quickchartButtonEl =\n",
              "        document.querySelector('#' + key + ' button');\n",
              "      quickchartButtonEl.disabled = true;  // To prevent multiple clicks.\n",
              "      quickchartButtonEl.classList.add('colab-df-spinner');\n",
              "      try {\n",
              "        const charts = await google.colab.kernel.invokeFunction(\n",
              "            'suggestCharts', [key], {});\n",
              "      } catch (error) {\n",
              "        console.error('Error during call to suggestCharts:', error);\n",
              "      }\n",
              "      quickchartButtonEl.classList.remove('colab-df-spinner');\n",
              "      quickchartButtonEl.classList.add('colab-df-quickchart-complete');\n",
              "    }\n",
              "    (() => {\n",
              "      let quickchartButtonEl =\n",
              "        document.querySelector('#df-7117db57-2814-4752-937d-76675bd01ed5 button');\n",
              "      quickchartButtonEl.style.display =\n",
              "        google.colab.kernel.accessAllowed ? 'block' : 'none';\n",
              "    })();\n",
              "  </script>\n",
              "</div>\n",
              "\n",
              "    </div>\n",
              "  </div>\n"
            ],
            "application/vnd.google.colaboratory.intrinsic+json": {
              "type": "dataframe",
              "summary": "{\n  \"name\": \"dados_avaliacao\",\n  \"rows\": 4,\n  \"fields\": [\n    {\n      \"column\": \"reviewId\",\n      \"properties\": {\n        \"dtype\": \"string\",\n        \"num_unique_values\": 3,\n        \"samples\": [\n          \"3011\",\n          \"01e23c15-44bf-46b7-b280-40e880d9d49b\",\n          \"1\"\n        ],\n        \"semantic_type\": \"\",\n        \"description\": \"\"\n      }\n    },\n    {\n      \"column\": \"app_name\",\n      \"properties\": {\n        \"dtype\": \"string\",\n        \"num_unique_values\": 4,\n        \"samples\": [\n          10,\n          \"303\",\n          \"3011\"\n        ],\n        \"semantic_type\": \"\",\n        \"description\": \"\"\n      }\n    },\n    {\n      \"column\": \"content\",\n      \"properties\": {\n        \"dtype\": \"string\",\n        \"num_unique_values\": 3,\n        \"samples\": [\n          \"3011\",\n          \"O app da Shopee \\u00e9 razo\\u00e1vel. Apesar de ser f\\u00e1cil de utilizar, apresenta alguns bugs. Por exemplo: Sugest\\u00e3o de palavra errada no campo de pesquisa que acarreta na busca errada. Sugest\\u00f5es de produtos que n\\u00e3o t\\u00eam nada a ver com coisas de nosso interesse. Dificuldade de acesso de alguns jogos ou travamento durante alguma jogada. Falhas para carregar certos anexos para avalia\\u00e7\\u00e3o dos produtos. No geral, s\\u00e3o problemas que se pode contornar, pois n\\u00e3o ocorrem com tanta frequ\\u00eancia.\",\n          \"1\"\n        ],\n        \"semantic_type\": \"\",\n        \"description\": \"\"\n      }\n    },\n    {\n      \"column\": \"sentiment_polarity\",\n      \"properties\": {\n        \"dtype\": \"string\",\n        \"num_unique_values\": 4,\n        \"samples\": [\n          3,\n          \"1742\",\n          \"3011\"\n        ],\n        \"semantic_type\": \"\",\n        \"description\": \"\"\n      }\n    },\n    {\n      \"column\": \"sentiment\",\n      \"properties\": {\n        \"dtype\": \"string\",\n        \"num_unique_values\": 4,\n        \"samples\": [\n          7,\n          \"952\",\n          \"3011\"\n        ],\n        \"semantic_type\": \"\",\n        \"description\": \"\"\n      }\n    },\n    {\n      \"column\": \"Unnamed: 5\",\n      \"properties\": {\n        \"dtype\": \"string\",\n        \"num_unique_values\": 2,\n        \"samples\": [\n          \"X\",\n          \"1\"\n        ],\n        \"semantic_type\": \"\",\n        \"description\": \"\"\n      }\n    }\n  ]\n}"
            }
          },
          "metadata": {},
          "execution_count": 113
        }
      ]
    },
    {
      "cell_type": "markdown",
      "source": [
        "##Pré-Processamento\n",
        "\n",
        "Nesta etapa fazemos a limpeza dos dados"
      ],
      "metadata": {
        "id": "3w6vNZKQ9j33"
      }
    },
    {
      "cell_type": "code",
      "source": [
        "dados_avaliacao['content'] = dados_avaliacao['content'].apply(lambda x: regex.sub('[^\\p{Latin}]', u' ', str(x))) # remove caracteres latinos"
      ],
      "metadata": {
        "id": "1TWrJnZpVvGc"
      },
      "execution_count": null,
      "outputs": []
    },
    {
      "cell_type": "code",
      "source": [
        "dados_avaliacao['content'] = dados_avaliacao['content'].apply(lambda x: str(x).lower())  # comentários para minúsculo"
      ],
      "metadata": {
        "id": "amugNCNdVy4j"
      },
      "execution_count": null,
      "outputs": []
    },
    {
      "cell_type": "code",
      "source": [
        "nltk.download('stopwords') #remove stopwords no datafreme\n",
        "nltk.download('punkt')\n",
        "\n",
        "def remove_stopwords(texto):\n",
        "    stops_list = stopwords.words(\"portuguese\")\n",
        "    word_tokens = word_tokenize(texto)\n",
        "    texto_sem_stops = [w for w in word_tokens if w not in stops_list]\n",
        "    return \" \".join(texto_sem_stops)"
      ],
      "metadata": {
        "colab": {
          "base_uri": "https://localhost:8080/"
        },
        "id": "yejMgsjdV1Bz",
        "outputId": "3bb03350-0394-4d5a-e89e-1c9e5711789f"
      },
      "execution_count": null,
      "outputs": [
        {
          "output_type": "stream",
          "name": "stderr",
          "text": [
            "[nltk_data] Downloading package stopwords to /root/nltk_data...\n",
            "[nltk_data]   Package stopwords is already up-to-date!\n",
            "[nltk_data] Downloading package punkt to /root/nltk_data...\n",
            "[nltk_data]   Package punkt is already up-to-date!\n"
          ]
        }
      ]
    },
    {
      "cell_type": "code",
      "source": [
        "dados_avaliacao['content'] = dados_avaliacao['content'].apply(remove_stopwords) #remover stopwords"
      ],
      "metadata": {
        "id": "Dre1W5jrV3NF"
      },
      "execution_count": null,
      "outputs": []
    },
    {
      "cell_type": "code",
      "source": [
        "dados_avaliacao.loc[0, 'content']"
      ],
      "metadata": {
        "colab": {
          "base_uri": "https://localhost:8080/",
          "height": 70
        },
        "id": "ZSymSsa-70Bj",
        "outputId": "d8d7ad58-1754-428c-ec2b-de1a91904f45"
      },
      "execution_count": null,
      "outputs": [
        {
          "output_type": "execute_result",
          "data": {
            "text/plain": [
              "'app shopee razoável apesar fácil utilizar apresenta alguns bugs exemplo sugestão palavra errada campo pesquisa acarreta busca errada sugestões produtos têm nada ver coisas interesse dificuldade acesso alguns jogos travamento durante alguma jogada falhas carregar certos anexos avaliação produtos geral problemas pode contornar pois ocorrem tanta frequência'"
            ],
            "application/vnd.google.colaboratory.intrinsic+json": {
              "type": "string"
            }
          },
          "metadata": {},
          "execution_count": 118
        }
      ]
    },
    {
      "cell_type": "markdown",
      "source": [
        "##Extração de Características"
      ],
      "metadata": {
        "id": "MuRWHLM26eHC"
      }
    },
    {
      "cell_type": "code",
      "source": [
        "# Dividir os dados em treino e teste\n",
        "# A escolha deste método se deu pela simplicidade e facilidade de Implementação\n",
        "# Eficiência Computacional\n",
        "# 80% treino\n",
        "# 20% teste\n",
        "\n",
        "X_train, X_test, y_train, y_test = train_test_split(dados_avaliacao['content'], dados_avaliacao['sentiment'], test_size=0.2, random_state=42)"
      ],
      "metadata": {
        "id": "8mnhlXUA6pOa"
      },
      "execution_count": null,
      "outputs": []
    },
    {
      "cell_type": "code",
      "source": [
        "# Tokenizar os dados dos comentários\n",
        "tokenizer = Tokenizer()\n",
        "tokenizer.fit_on_texts(X_train)"
      ],
      "metadata": {
        "id": "vJG7XBST7IMa"
      },
      "execution_count": null,
      "outputs": []
    },
    {
      "cell_type": "code",
      "source": [
        "# Treinar o modelo Word2Vec\n",
        "sentences = [sentence.split() for sentence in X_train]\n",
        "w2v_model = Word2Vec(sentences, vector_size=100, window=5, min_count=5, workers=4)"
      ],
      "metadata": {
        "id": "mSFVRT_h7LJO"
      },
      "execution_count": null,
      "outputs": []
    },
    {
      "cell_type": "code",
      "source": [
        "# Converter comentários para sequências numéricas\n",
        "X_train = tokenizer.texts_to_sequences(X_train)\n",
        "X_test = tokenizer.texts_to_sequences(X_test)"
      ],
      "metadata": {
        "id": "phMr2nyQ7M52"
      },
      "execution_count": null,
      "outputs": []
    },
    {
      "cell_type": "code",
      "source": [
        "# Padronizar as sequências\n",
        "vocab_size = len(tokenizer.word_index) + 1\n",
        "max_length = max(max(len(seq) for seq in X_train), max(len(seq) for seq in X_test))\n",
        "X_train = pad_sequences(X_train, maxlen=max_length, padding='post')\n",
        "X_test = pad_sequences(X_test, maxlen=max_length, padding='post')"
      ],
      "metadata": {
        "id": "LGydJyk87PPi"
      },
      "execution_count": null,
      "outputs": []
    },
    {
      "cell_type": "code",
      "source": [
        "# Criar a matriz de embeddings\n",
        "embedding_matrix = np.zeros((vocab_size, 100)) ## O tamanho pode impactar no desempenho do modelo\n",
        "for word, i in tokenizer.word_index.items():\n",
        "    if word in w2v_model.wv:\n",
        "        embedding_matrix[i] = w2v_model.wv[word]"
      ],
      "metadata": {
        "id": "tghxdW6F7RWK"
      },
      "execution_count": null,
      "outputs": []
    },
    {
      "cell_type": "code",
      "source": [
        "# Codificar os rótulos\n",
        "label_encoder = LabelEncoder()\n",
        "y_train = label_encoder.fit_transform(y_train)\n",
        "y_test = label_encoder.transform(y_test)"
      ],
      "metadata": {
        "id": "oGZATNLl7WZH"
      },
      "execution_count": null,
      "outputs": []
    },
    {
      "cell_type": "code",
      "source": [
        "# Converter rótulos para categórico\n",
        "num_classes = len(label_encoder.classes_)\n",
        "y_train = np.eye(num_classes)[y_train]\n",
        "y_test = np.eye(num_classes)[y_test]"
      ],
      "metadata": {
        "id": "6KC13YNK7ZGT"
      },
      "execution_count": null,
      "outputs": []
    },
    {
      "cell_type": "markdown",
      "source": [
        "## Treinamento e teste do modelo\n",
        "\n",
        "Define a estrutura do modelo CNN com camadas de convolução, pooling, flatten e densas\n",
        "\n",
        "Compila o modelo com o otimizador Adam e a função de perda\n",
        "\n",
        "Treina o modelo usando os dados de treinamento"
      ],
      "metadata": {
        "id": "t7u5NDfRFgVw"
      }
    },
    {
      "cell_type": "code",
      "source": [
        "# Definir a arquitetura do modelo CNN\n",
        "model = Sequential()\n",
        "model.add(Embedding(vocab_size, 100, weights=[embedding_matrix], input_length=max_length, trainable=False))\n",
        "model.add(Conv1D(128, 5, activation='relu'))\n",
        "model.add(MaxPooling1D(5))\n",
        "model.add(Conv1D(128, 5, activation='relu'))\n",
        "model.add(MaxPooling1D(5))\n",
        "model.add(Flatten())\n",
        "model.add(Dense(128, activation='relu'))\n",
        "model.add(Dense(num_classes, activation='softmax'))"
      ],
      "metadata": {
        "id": "PKYHDqmv7bG7"
      },
      "execution_count": null,
      "outputs": []
    },
    {
      "cell_type": "code",
      "source": [
        "# Compilar o modelo\n",
        "model.compile(optimizer='adam', loss='categorical_crossentropy', metrics=['accuracy'])"
      ],
      "metadata": {
        "id": "kPJKhEds7ctT"
      },
      "execution_count": null,
      "outputs": []
    },
    {
      "cell_type": "code",
      "source": [
        "# Treinar o modelo\n",
        "history = model.fit(X_train, y_train, epochs=10, batch_size=32, validation_data=(X_test, y_test))"
      ],
      "metadata": {
        "colab": {
          "base_uri": "https://localhost:8080/"
        },
        "collapsed": true,
        "id": "ikyh4ks67fTr",
        "outputId": "3a1d2fcf-9e12-4739-98dd-4afb954bb885"
      },
      "execution_count": null,
      "outputs": [
        {
          "output_type": "stream",
          "name": "stdout",
          "text": [
            "Epoch 1/10\n",
            "76/76 [==============================] - 4s 29ms/step - loss: 1.5011 - accuracy: 0.3102 - val_loss: 1.4914 - val_accuracy: 0.3085\n",
            "Epoch 2/10\n",
            "76/76 [==============================] - 2s 23ms/step - loss: 1.4613 - accuracy: 0.3243 - val_loss: 1.4611 - val_accuracy: 0.3416\n",
            "Epoch 3/10\n",
            "76/76 [==============================] - 2s 24ms/step - loss: 1.4415 - accuracy: 0.3401 - val_loss: 1.4552 - val_accuracy: 0.3350\n",
            "Epoch 4/10\n",
            "76/76 [==============================] - 3s 39ms/step - loss: 1.4347 - accuracy: 0.3530 - val_loss: 1.4707 - val_accuracy: 0.3284\n",
            "Epoch 5/10\n",
            "76/76 [==============================] - 2s 27ms/step - loss: 1.4217 - accuracy: 0.3534 - val_loss: 1.4760 - val_accuracy: 0.3151\n",
            "Epoch 6/10\n",
            "76/76 [==============================] - 2s 26ms/step - loss: 1.4125 - accuracy: 0.3600 - val_loss: 1.4733 - val_accuracy: 0.2985\n",
            "Epoch 7/10\n",
            "76/76 [==============================] - 2s 23ms/step - loss: 1.3947 - accuracy: 0.3771 - val_loss: 1.4728 - val_accuracy: 0.3101\n",
            "Epoch 8/10\n",
            "76/76 [==============================] - 2s 23ms/step - loss: 1.3889 - accuracy: 0.3713 - val_loss: 1.4556 - val_accuracy: 0.3300\n",
            "Epoch 9/10\n",
            "76/76 [==============================] - 2s 23ms/step - loss: 1.3685 - accuracy: 0.3800 - val_loss: 1.5440 - val_accuracy: 0.3068\n",
            "Epoch 10/10\n",
            "76/76 [==============================] - 2s 28ms/step - loss: 1.3643 - accuracy: 0.3999 - val_loss: 1.4604 - val_accuracy: 0.3466\n"
          ]
        }
      ]
    },
    {
      "cell_type": "code",
      "source": [
        "# Fazer previsões\n",
        "predicoes = np.argmax(model.predict(X_test), axis=1)\n",
        "y_test_labels = np.argmax(y_test, axis=1)"
      ],
      "metadata": {
        "colab": {
          "base_uri": "https://localhost:8080/"
        },
        "id": "xF-ycPow7hZD",
        "outputId": "e69112c9-3b45-484b-b83e-e4b3cfe30f17"
      },
      "execution_count": null,
      "outputs": [
        {
          "output_type": "stream",
          "name": "stdout",
          "text": [
            "19/19 [==============================] - 0s 9ms/step\n"
          ]
        }
      ]
    },
    {
      "cell_type": "code",
      "source": [
        "# Relatório de classificação\n",
        "print(classification_report(y_test_labels, predicoes, target_names=label_encoder.classes_))"
      ],
      "metadata": {
        "colab": {
          "base_uri": "https://localhost:8080/"
        },
        "id": "hBLqdYHy7kpc",
        "outputId": "13c0d51a-2c6e-4192-b146-a62622bf0bbc"
      },
      "execution_count": null,
      "outputs": [
        {
          "output_type": "stream",
          "name": "stdout",
          "text": [
            "              precision    recall  f1-score   support\n",
            "\n",
            "       anger       0.26      0.21      0.23       153\n",
            "     disgust       0.35      0.62      0.45       188\n",
            "        fear       0.00      0.00      0.00         5\n",
            "   happiness       0.40      0.06      0.11        64\n",
            "     neutral       0.00      0.00      0.00        19\n",
            "     sadness       0.41      0.33      0.36       172\n",
            "    surprise       0.00      0.00      0.00         2\n",
            "\n",
            "    accuracy                           0.35       603\n",
            "   macro avg       0.20      0.17      0.16       603\n",
            "weighted avg       0.34      0.35      0.31       603\n",
            "\n"
          ]
        },
        {
          "output_type": "stream",
          "name": "stderr",
          "text": [
            "/usr/local/lib/python3.10/dist-packages/sklearn/metrics/_classification.py:1471: UndefinedMetricWarning: Precision and F-score are ill-defined and being set to 0.0 in labels with no predicted samples. Use `zero_division` parameter to control this behavior.\n",
            "  _warn_prf(average, modifier, msg_start, len(result))\n",
            "/usr/local/lib/python3.10/dist-packages/sklearn/metrics/_classification.py:1471: UndefinedMetricWarning: Precision and F-score are ill-defined and being set to 0.0 in labels with no predicted samples. Use `zero_division` parameter to control this behavior.\n",
            "  _warn_prf(average, modifier, msg_start, len(result))\n",
            "/usr/local/lib/python3.10/dist-packages/sklearn/metrics/_classification.py:1471: UndefinedMetricWarning: Precision and F-score are ill-defined and being set to 0.0 in labels with no predicted samples. Use `zero_division` parameter to control this behavior.\n",
            "  _warn_prf(average, modifier, msg_start, len(result))\n"
          ]
        }
      ]
    },
    {
      "cell_type": "markdown",
      "source": [
        "O modelo tem um desempenho moderado para algumas classes como \"disgust\" e \"sadness\", mas falha em prever corretamente classes como \"fear\", \"neutral\", e \"surprise\"\n",
        "\n",
        "O desempenho geral é muito baixo quando comparado com os modelos TF-IDF E BoW com O NaiveBayes e KNN\n",
        "\n",
        "É o modelo com menos precisão e com mais complexidade para implementar"
      ],
      "metadata": {
        "id": "QY0nrnmaI1Uk"
      }
    },
    {
      "cell_type": "code",
      "source": [
        "# Matriz de confusão\n",
        "cm = confusion_matrix(y_test_labels, predicoes)\n",
        "sns.heatmap(cm, square=True, annot=True, cmap='RdBu', cbar=False,\n",
        "            xticklabels=label_encoder.classes_,\n",
        "            yticklabels=label_encoder.classes_)\n",
        "\n",
        "plt.xlabel(\"Classe real\")\n",
        "plt.ylabel(\"Classe predita\")\n",
        "plt.show()"
      ],
      "metadata": {
        "colab": {
          "base_uri": "https://localhost:8080/",
          "height": 506
        },
        "collapsed": true,
        "id": "8xUZEFSQtSFq",
        "outputId": "2b72cd79-3f7d-4494-ee72-b35a3f7d67b0"
      },
      "execution_count": null,
      "outputs": [
        {
          "output_type": "display_data",
          "data": {
            "text/plain": [
              "<Figure size 640x480 with 1 Axes>"
            ],
            "image/png": "[encoded data removed]"
          },
          "metadata": {}
        }
      ]
    },
    {
      "cell_type": "markdown",
      "source": [
        "##Polaridade Sentimentos"
      ],
      "metadata": {
        "id": "XTjD3xRJNs0m"
      }
    },
    {
      "cell_type": "code",
      "source": [
        "# Dividir os dados em treino e teste\n",
        "X_train, X_test, y_train, y_test = train_test_split(dados_avaliacao['content'], dados_avaliacao['sentiment_polarity'], test_size=0.2, random_state=42)"
      ],
      "metadata": {
        "id": "22FJ-bzwNzJG"
      },
      "execution_count": null,
      "outputs": []
    },
    {
      "cell_type": "code",
      "source": [
        "# Tokenizar os dados dos comentários\n",
        "tokenizer = Tokenizer()\n",
        "tokenizer.fit_on_texts(X_train)"
      ],
      "metadata": {
        "id": "UoN8HXVUROxy"
      },
      "execution_count": null,
      "outputs": []
    },
    {
      "cell_type": "code",
      "source": [
        "# Treinar o modelo Word2Vec\n",
        "sentences = [sentence.split() for sentence in X_train]\n",
        "w2v_model = Word2Vec(sentences, vector_size=100, window=5, min_count=5, workers=4)"
      ],
      "metadata": {
        "id": "JgCm51mzRPaG"
      },
      "execution_count": null,
      "outputs": []
    },
    {
      "cell_type": "code",
      "source": [
        "# Converter comentários para sequências numéricas\n",
        "X_train = tokenizer.texts_to_sequences(X_train)\n",
        "X_test = tokenizer.texts_to_sequences(X_test)"
      ],
      "metadata": {
        "id": "rze04meHRPlO"
      },
      "execution_count": null,
      "outputs": []
    },
    {
      "cell_type": "code",
      "source": [
        "# Padronizar as sequências\n",
        "vocab_size = len(tokenizer.word_index) + 1\n",
        "max_length = max(max(len(seq) for seq in X_train), max(len(seq) for seq in X_test))\n",
        "X_train = pad_sequences(X_train, maxlen=max_length, padding='post')\n",
        "X_test = pad_sequences(X_test, maxlen=max_length, padding='post')"
      ],
      "metadata": {
        "id": "ipN647GSRgP6"
      },
      "execution_count": null,
      "outputs": []
    },
    {
      "cell_type": "code",
      "source": [
        "# Criar a matriz de embeddings\n",
        "embedding_matrix = np.zeros((vocab_size, 100))\n",
        "for word, i in tokenizer.word_index.items():\n",
        "    if word in w2v_model.wv:\n",
        "        embedding_matrix[i] = w2v_model.wv[word]"
      ],
      "metadata": {
        "id": "r3evmUT0RjPL"
      },
      "execution_count": null,
      "outputs": []
    },
    {
      "cell_type": "code",
      "source": [
        "# Codificar os rótulos\n",
        "label_encoder = LabelEncoder()\n",
        "y_train = label_encoder.fit_transform(y_train)\n",
        "y_test = label_encoder.transform(y_test)"
      ],
      "metadata": {
        "id": "ydrenSs4QU5x"
      },
      "execution_count": null,
      "outputs": []
    },
    {
      "cell_type": "code",
      "source": [
        "# Converter rótulos para categórico\n",
        "num_classes = len(label_encoder.classes_)\n",
        "y_train = np.eye(num_classes)[y_train]\n",
        "y_test = np.eye(num_classes)[y_test]"
      ],
      "metadata": {
        "id": "hvq45EhbQXhC"
      },
      "execution_count": null,
      "outputs": []
    },
    {
      "cell_type": "code",
      "source": [
        "# Definir a arquitetura do modelo CNN\n",
        "model = Sequential()\n",
        "model.add(Embedding(vocab_size, 100, weights=[embedding_matrix], input_length=max_length, trainable=False))\n",
        "model.add(Conv1D(128, 5, activation='relu'))\n",
        "model.add(MaxPooling1D(5))\n",
        "model.add(Conv1D(128, 5, activation='relu'))\n",
        "model.add(MaxPooling1D(5))\n",
        "model.add(Flatten())\n",
        "model.add(Dense(128, activation='relu'))\n",
        "model.add(Dense(num_classes, activation='softmax'))"
      ],
      "metadata": {
        "id": "11YBNVa7QZIC"
      },
      "execution_count": null,
      "outputs": []
    },
    {
      "cell_type": "code",
      "source": [
        "# Compilar o modelo\n",
        "model.compile(optimizer='adam', loss='categorical_crossentropy', metrics=['accuracy'])"
      ],
      "metadata": {
        "id": "NI1U2ntsQhUW"
      },
      "execution_count": null,
      "outputs": []
    },
    {
      "cell_type": "code",
      "source": [
        "# Treinar o modelo\n",
        "history = model.fit(X_train, y_train, epochs=10, batch_size=32, validation_data=(X_test, y_test))"
      ],
      "metadata": {
        "colab": {
          "base_uri": "https://localhost:8080/"
        },
        "id": "ONFAD5isQxFZ",
        "outputId": "ee283ef3-db9b-4466-ceae-7a7a7bfd3071"
      },
      "execution_count": null,
      "outputs": [
        {
          "output_type": "stream",
          "name": "stdout",
          "text": [
            "Epoch 1/10\n",
            "76/76 [==============================] - 3s 25ms/step - loss: 0.7860 - accuracy: 0.5515 - val_loss: 0.7926 - val_accuracy: 0.5738\n",
            "Epoch 2/10\n",
            "76/76 [==============================] - 2s 32ms/step - loss: 0.7618 - accuracy: 0.5752 - val_loss: 0.7781 - val_accuracy: 0.5738\n",
            "Epoch 3/10\n",
            "76/76 [==============================] - 3s 37ms/step - loss: 0.7617 - accuracy: 0.5806 - val_loss: 0.7809 - val_accuracy: 0.5672\n",
            "Epoch 4/10\n",
            "76/76 [==============================] - 2s 22ms/step - loss: 0.7504 - accuracy: 0.5810 - val_loss: 0.7771 - val_accuracy: 0.5738\n",
            "Epoch 5/10\n",
            "76/76 [==============================] - 2s 23ms/step - loss: 0.7497 - accuracy: 0.5855 - val_loss: 0.7883 - val_accuracy: 0.5721\n",
            "Epoch 6/10\n",
            "76/76 [==============================] - 2s 23ms/step - loss: 0.7528 - accuracy: 0.5847 - val_loss: 0.7840 - val_accuracy: 0.5788\n",
            "Epoch 7/10\n",
            "76/76 [==============================] - 2s 23ms/step - loss: 0.7394 - accuracy: 0.5793 - val_loss: 0.8042 - val_accuracy: 0.4909\n",
            "Epoch 8/10\n",
            "76/76 [==============================] - 2s 23ms/step - loss: 0.7414 - accuracy: 0.5947 - val_loss: 0.7740 - val_accuracy: 0.5804\n",
            "Epoch 9/10\n",
            "76/76 [==============================] - 2s 33ms/step - loss: 0.7268 - accuracy: 0.6009 - val_loss: 0.7934 - val_accuracy: 0.5705\n",
            "Epoch 10/10\n",
            "76/76 [==============================] - 3s 35ms/step - loss: 0.7212 - accuracy: 0.6100 - val_loss: 0.7878 - val_accuracy: 0.5788\n"
          ]
        }
      ]
    },
    {
      "cell_type": "code",
      "source": [
        "# Fazer previsões\n",
        "predicoespolarity = np.argmax(model.predict(X_test), axis=1)\n",
        "y_test_labels = np.argmax(y_test, axis=1)"
      ],
      "metadata": {
        "colab": {
          "base_uri": "https://localhost:8080/"
        },
        "id": "yI76K157Qm2g",
        "outputId": "bdf9a7dd-7c93-4b5e-e0f1-c619c2b54ce5"
      },
      "execution_count": null,
      "outputs": [
        {
          "output_type": "stream",
          "name": "stdout",
          "text": [
            "19/19 [==============================] - 0s 8ms/step\n"
          ]
        }
      ]
    },
    {
      "cell_type": "code",
      "source": [
        "# Relatório de classificação\n",
        "print(classification_report(y_test_labels, predicoespolarity, target_names=label_encoder.classes_))"
      ],
      "metadata": {
        "colab": {
          "base_uri": "https://localhost:8080/"
        },
        "id": "jrapJG9mQ1B5",
        "outputId": "054e9cdf-925e-462c-ec68-78d633e25e47"
      },
      "execution_count": null,
      "outputs": [
        {
          "output_type": "stream",
          "name": "stdout",
          "text": [
            "              precision    recall  f1-score   support\n",
            "\n",
            "    negative       0.58      0.94      0.72       346\n",
            "     neutral       0.00      0.00      0.00        19\n",
            "    positive       0.53      0.11      0.18       238\n",
            "\n",
            "    accuracy                           0.58       603\n",
            "   macro avg       0.37      0.35      0.30       603\n",
            "weighted avg       0.54      0.58      0.48       603\n",
            "\n"
          ]
        },
        {
          "output_type": "stream",
          "name": "stderr",
          "text": [
            "/usr/local/lib/python3.10/dist-packages/sklearn/metrics/_classification.py:1471: UndefinedMetricWarning: Precision and F-score are ill-defined and being set to 0.0 in labels with no predicted samples. Use `zero_division` parameter to control this behavior.\n",
            "  _warn_prf(average, modifier, msg_start, len(result))\n",
            "/usr/local/lib/python3.10/dist-packages/sklearn/metrics/_classification.py:1471: UndefinedMetricWarning: Precision and F-score are ill-defined and being set to 0.0 in labels with no predicted samples. Use `zero_division` parameter to control this behavior.\n",
            "  _warn_prf(average, modifier, msg_start, len(result))\n",
            "/usr/local/lib/python3.10/dist-packages/sklearn/metrics/_classification.py:1471: UndefinedMetricWarning: Precision and F-score are ill-defined and being set to 0.0 in labels with no predicted samples. Use `zero_division` parameter to control this behavior.\n",
            "  _warn_prf(average, modifier, msg_start, len(result))\n"
          ]
        }
      ]
    },
    {
      "cell_type": "markdown",
      "source": [
        "O modelo tem um desempenho  geral moderado, ficou próximo de resultados como o modelo KNN, porém não superou nenhum dos outros modelos\n"
      ],
      "metadata": {
        "id": "G7bDj3KRTK_F"
      }
    },
    {
      "cell_type": "code",
      "source": [
        "# Matriz de confusão\n",
        "cm = confusion_matrix(y_test_labels, predicoespolarity)\n",
        "sns.heatmap(cm, square=True, annot=True, cmap='RdBu', cbar=False,\n",
        "            xticklabels=label_encoder.classes_,\n",
        "            yticklabels=label_encoder.classes_)\n",
        "\n",
        "plt.xlabel(\"Classe real\")\n",
        "plt.ylabel(\"Classe predita\")\n",
        "plt.show()"
      ],
      "metadata": {
        "colab": {
          "base_uri": "https://localhost:8080/",
          "height": 449
        },
        "id": "073EEuf5Q3BB",
        "outputId": "fffaeb82-a3e8-460f-8dcc-8fd171e6b6bb"
      },
      "execution_count": null,
      "outputs": [
        {
          "output_type": "display_data",
          "data": {
            "text/plain": [
              "<Figure size 640x480 with 1 Axes>"
            ],
            "image/png": "[encoded data removed]"
          },
          "metadata": {}
        }
      ]
    },
    {
      "cell_type": "markdown",
      "source": [
        "##Vantagens e Limitações\n",
        "\n",
        "Vantagens:\n",
        "\n",
        "Captura de Relações Semânticas;\n",
        "Representações Ricas de Texto;\n",
        "Escalabilidade.\n",
        "\n",
        "Limitações:\n",
        "\n",
        "Requisitos Computacionais;\n",
        "Depende de Grandes Volumes de Dados;\n",
        "Complexidade de Implementação, o que pode ter gerado eficiência tão baixa.\n"
      ],
      "metadata": {
        "id": "771da2Tpg3iH"
      }
    }
  ]
}